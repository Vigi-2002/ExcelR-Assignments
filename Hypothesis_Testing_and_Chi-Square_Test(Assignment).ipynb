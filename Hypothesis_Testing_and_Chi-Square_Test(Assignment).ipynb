{
 "cells": [
  {
   "cell_type": "markdown",
   "id": "c3a5d968-851c-40af-9d3b-61b51bf28a4d",
   "metadata": {},
   "source": [
    "# Hypothesis Testing and Chi-Square Test(Assignment)"
   ]
  },
  {
   "cell_type": "markdown",
   "id": "6ac54d0d-94df-4bab-b0e7-579ebd280a30",
   "metadata": {},
   "source": [
    "# 1. CHI-SQUARE TEST"
   ]
  },
  {
   "cell_type": "markdown",
   "id": "571494bc-0e98-4a8f-a905-acbca43f3b67",
   "metadata": {},
   "source": [
    "## Objective"
   ]
  },
  {
   "cell_type": "markdown",
   "id": "71b87230-928f-479b-98f8-4383e9ccc061",
   "metadata": {},
   "source": [
    "To use the Chi-Square test for independence to determine if there's a significant association between the type of smart home device purchased (Smart Thermostats vs. Smart Lights) and the customer satisfaction level."
   ]
  },
  {
   "cell_type": "markdown",
   "id": "5a611d3e-5e84-4e7d-9b6e-5dc19f47fa89",
   "metadata": {},
   "source": [
    "## Task 1: State the Hypotheses"
   ]
  },
  {
   "cell_type": "markdown",
   "id": "3fe375a9-278c-4c59-aff5-fba2e5071c3c",
   "metadata": {},
   "source": [
    "**Null Hypothesis (H₀):**\n",
    "\n",
    "There is no association between the type of device and customer satisfaction, i.e. customer satisfaction is independent of the type of device purchased.\n",
    "                     \n",
    "\n",
    "\n",
    "**Alternative Hypothesis (H₁):**\n",
    "\n",
    "There is an association between the type of device and customer satisfaction, i.e. satisfaction level depends on the type of device purchased."
   ]
  },
  {
   "cell_type": "markdown",
   "id": "bdb9dd98-1a71-47ac-bf6b-5ae295afc006",
   "metadata": {},
   "source": [
    "## Task 2: Compute the Chi-Square Statistic"
   ]
  },
  {
   "cell_type": "code",
   "execution_count": 2,
   "id": "90492f2c-fbd6-40f4-9b0c-dfa06c981aad",
   "metadata": {},
   "outputs": [],
   "source": [
    "import numpy as np\n",
    "import scipy.stats as stats"
   ]
  },
  {
   "cell_type": "code",
   "execution_count": 3,
   "id": "41191066-88b2-4147-ba21-62ca88597d6a",
   "metadata": {},
   "outputs": [],
   "source": [
    "# Observed frequency\n",
    "observed = np.array([\n",
    "    [50, 70],\n",
    "    [80, 100],\n",
    "    [60, 90],\n",
    "    [30, 50],\n",
    "    [20, 50]\n",
    "])"
   ]
  },
  {
   "cell_type": "code",
   "execution_count": 4,
   "id": "360358dd-536f-42ab-aa87-ad77a7aee66b",
   "metadata": {},
   "outputs": [],
   "source": [
    "chi2, p, dof, expected = stats.chi2_contingency(observed)"
   ]
  },
  {
   "cell_type": "code",
   "execution_count": 5,
   "id": "4c1a9b28-0bf4-433f-8d73-4c227bcf77f3",
   "metadata": {},
   "outputs": [
    {
     "name": "stdout",
     "output_type": "stream",
     "text": [
      "Chi-Square Statistic: 5.6382\n",
      "P-Value: 0.2278\n",
      "Degrees of Freedom: 4\n",
      "Expected Frequencies Table:\n",
      "[[ 48.  72.]\n",
      " [ 72. 108.]\n",
      " [ 60.  90.]\n",
      " [ 32.  48.]\n",
      " [ 28.  42.]]\n"
     ]
    }
   ],
   "source": [
    "# Results\n",
    "print(f'Chi-Square Statistic: {chi2:.4f}')\n",
    "print(f'P-Value: {p:.4f}')\n",
    "print(f'Degrees of Freedom: {dof}')\n",
    "print(\"Expected Frequencies Table:\")\n",
    "print(expected)"
   ]
  },
  {
   "cell_type": "markdown",
   "id": "fffd643d-122e-4a9c-87eb-279e89fdbaef",
   "metadata": {},
   "source": [
    "## Task 3: Determine the Critical Value"
   ]
  },
  {
   "cell_type": "code",
   "execution_count": 6,
   "id": "c2235b11-2ea0-463f-b26e-69cd2a416cde",
   "metadata": {},
   "outputs": [],
   "source": [
    "alpha = 0.05"
   ]
  },
  {
   "cell_type": "code",
   "execution_count": 9,
   "id": "6759c65e-c39d-424c-a686-0bf7cfd29f8a",
   "metadata": {},
   "outputs": [
    {
     "data": {
      "text/plain": [
       "4"
      ]
     },
     "execution_count": 9,
     "metadata": {},
     "output_type": "execute_result"
    }
   ],
   "source": [
    "# Degrees of freedom (df) = (rows - 1) * (columns - 1)\n",
    "dof = (5 - 1) * (2 - 1)\n",
    "dof"
   ]
  },
  {
   "cell_type": "code",
   "execution_count": 8,
   "id": "f83678da-103e-43dc-8281-e8a29a22ed51",
   "metadata": {},
   "outputs": [
    {
     "name": "stdout",
     "output_type": "stream",
     "text": [
      "Critical Value: 9.4877\n"
     ]
    }
   ],
   "source": [
    "critical_value = stats.chi2.ppf(1 - alpha, dof)\n",
    "print(f\"Critical Value: {critical_value:.4f}\")"
   ]
  },
  {
   "cell_type": "markdown",
   "id": "0c627c82-c973-47ba-b000-e861c18359fd",
   "metadata": {},
   "source": [
    "## Task 4: Make a Decision"
   ]
  },
  {
   "cell_type": "markdown",
   "id": "c8686465-f945-45ae-865a-d4e11e8551a8",
   "metadata": {},
   "source": [
    "The Chi-Square Statistic is 5.6382 and Critical Value is 9.4877\n",
    "\n",
    "Since 5.64 < 9.488, we fail to reject null hypothesis.\n",
    "\n",
    "This means, there is no significant association between the type of smart home device and customer satisfaction at the 5% significance level."
   ]
  },
  {
   "cell_type": "code",
   "execution_count": null,
   "id": "36f17e09-ace9-4b7a-8e78-d952b14fca66",
   "metadata": {},
   "outputs": [],
   "source": []
  },
  {
   "cell_type": "markdown",
   "id": "9f7517dd-dac7-49c2-b34d-575056205d76",
   "metadata": {},
   "source": [
    "# 2. HYPOTHESIS TESTING"
   ]
  },
  {
   "cell_type": "markdown",
   "id": "278ec646-d2ee-48d6-a57b-f5eb487f1468",
   "metadata": {},
   "source": [
    "## Objective"
   ]
  },
  {
   "cell_type": "markdown",
   "id": "0cf35756-95ab-40e8-9f9b-bffafa0c72da",
   "metadata": {},
   "source": [
    "To investigate the restaurant owners' claim about the increase in weekly operating costs using hypothesis testing."
   ]
  },
  {
   "cell_type": "markdown",
   "id": "2853be23-6ab3-4a27-89dd-f5e746ec23ce",
   "metadata": {},
   "source": [
    "## Task 1: State the Hypotheses "
   ]
  },
  {
   "cell_type": "markdown",
   "id": "dcc1b753-55c6-4141-9b13-eaf7857612f5",
   "metadata": {},
   "source": [
    "Null Hypothesis (H₀): The actual mean weekly operating cost follows the given cost model.\n",
    "\n",
    "**H₀: μ = 4000**\n",
    "\n",
    "Alternative Hypothesis (H₁): The actual mean weekly operating cost is higher than the predicted cost.\n",
    "\n",
    "**H₁: μ < 4000**"
   ]
  },
  {
   "cell_type": "markdown",
   "id": "45330e45-56b8-450e-a24e-5a66cf32f21d",
   "metadata": {},
   "source": [
    "## Task 2: Calculate the Test Statistic"
   ]
  },
  {
   "cell_type": "markdown",
   "id": "19e57c10-4faa-4abc-82f0-332fcd8a90a1",
   "metadata": {},
   "source": [
    "ˉxˉ = sample mean weekly cost (Rs. 3,050) # Observed_mean\n",
    "\n",
    "**Expected Mean:**\n",
    "μ = theoretical mean weekly cost according to the cost model (W = $1,000 + $5X for X = 600 units) = (1,000 + 5 × 600) = 4000 \n",
    "\n",
    "σ = 5*25 units\n",
    "\n",
    "n = sample size (25 restaurants)"
   ]
  },
  {
   "cell_type": "code",
   "execution_count": 12,
   "id": "12e5a98e-5135-45e8-8244-6644c08e05cb",
   "metadata": {},
   "outputs": [],
   "source": [
    "observed_mean = 3050\n",
    "expected_mean = 4000\n",
    "sigma = 5 * 25  # 5 * 25 units\n",
    "sample_size = 25"
   ]
  },
  {
   "cell_type": "markdown",
   "id": "4dc9850f-6c42-4409-b8a5-8a152c8497b8",
   "metadata": {},
   "source": [
    "### Calculate Standard Error"
   ]
  },
  {
   "cell_type": "code",
   "execution_count": 13,
   "id": "097a47f2-6807-4735-913e-f8316b4c1aa2",
   "metadata": {},
   "outputs": [],
   "source": [
    "# alpha level of 5% (α = 0.05) \n",
    "\n",
    "se = sigma / (sample_size ** 0.5)"
   ]
  },
  {
   "cell_type": "markdown",
   "id": "3e522a83-f2e4-4cfa-b700-757ed2ab16d0",
   "metadata": {},
   "source": [
    "### Calculate the t-statistic"
   ]
  },
  {
   "cell_type": "code",
   "execution_count": 14,
   "id": "e39f8419-7321-4ad9-9681-a32ec79abd99",
   "metadata": {},
   "outputs": [
    {
     "name": "stdout",
     "output_type": "stream",
     "text": [
      "T-Statistic: -38.00\n"
     ]
    }
   ],
   "source": [
    "t_statistic = (observed_mean - expected_mean) / se\n",
    "print(f\"T-Statistic: {t_statistic:.2f}\")"
   ]
  },
  {
   "cell_type": "markdown",
   "id": "ab4187bc-ae36-4adc-b824-5d5ca38255c1",
   "metadata": {},
   "source": [
    "## Task 3: Determine the Critical Value"
   ]
  },
  {
   "cell_type": "code",
   "execution_count": 15,
   "id": "476dc0cc-7d6b-49f0-96a5-d49175333e80",
   "metadata": {},
   "outputs": [
    {
     "name": "stdout",
     "output_type": "stream",
     "text": [
      "Critical Value (Z): 1.6449\n"
     ]
    }
   ],
   "source": [
    "from scipy.stats import norm\n",
    "\n",
    "# Significance level (alpha)\n",
    "alpha = 0.05\n",
    "\n",
    "# Critical value for a one-tailed test (right tail)\n",
    "critical_value = norm.ppf(1 - alpha)\n",
    "\n",
    "print(f\"Critical Value (Z): {critical_value:.4f}\")"
   ]
  },
  {
   "cell_type": "markdown",
   "id": "c796ebe6-f0cf-4d5c-84c8-43e8089a2c49",
   "metadata": {},
   "source": [
    "## Task 4: Make a decision"
   ]
  },
  {
   "cell_type": "markdown",
   "id": "9720aa90-2772-4a37-894c-2a32ae9edda1",
   "metadata": {},
   "source": [
    "The test statistic (t) is -38, and the critical value (Z) is 1.645.\n",
    "\n",
    "Since -38 < 1.645, we reject null hypothesis.\n",
    "\n",
    "This means, the actual mean weekly operating cost does not follow the given cost model."
   ]
  },
  {
   "cell_type": "markdown",
   "id": "82db2131-8511-4b94-b1f2-a87fb9aaaf23",
   "metadata": {},
   "source": [
    "## Task 5: Conclusion"
   ]
  },
  {
   "cell_type": "markdown",
   "id": "eddad28f-df2e-48fe-9130-80e39041a55b",
   "metadata": {},
   "source": [
    "Based on Task 4, there is strong evidence to support the restaurant owners' claim that the weekly operating costs are higher than the model suggests"
   ]
  },
  {
   "cell_type": "code",
   "execution_count": null,
   "id": "dd043e62-97b0-46b7-8fe1-2834620a585b",
   "metadata": {},
   "outputs": [],
   "source": []
  }
 ],
 "metadata": {
  "kernelspec": {
   "display_name": "Python 3 (ipykernel)",
   "language": "python",
   "name": "python3"
  },
  "language_info": {
   "codemirror_mode": {
    "name": "ipython",
    "version": 3
   },
   "file_extension": ".py",
   "mimetype": "text/x-python",
   "name": "python",
   "nbconvert_exporter": "python",
   "pygments_lexer": "ipython3",
   "version": "3.11.4"
  }
 },
 "nbformat": 4,
 "nbformat_minor": 5
}
