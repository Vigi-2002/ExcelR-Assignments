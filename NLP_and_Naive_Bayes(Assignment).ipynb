{
 "cells": [
  {
   "cell_type": "markdown",
   "id": "e551ea7c-0858-4b4d-b52f-d53f25594c93",
   "metadata": {},
   "source": [
    "# NLP and Naive Bayes(Assignment)"
   ]
  },
  {
   "cell_type": "code",
   "execution_count": 1,
   "id": "8e6cc719-534a-4dc7-9d6f-ea9b714f3e90",
   "metadata": {},
   "outputs": [],
   "source": [
    "import pandas as pd \n",
    "import numpy as np\n",
    "import matplotlib.pyplot as plt\n",
    "import seaborn as sns"
   ]
  },
  {
   "cell_type": "markdown",
   "id": "0d43c944-eda0-472e-809c-ebb2a56aaf32",
   "metadata": {},
   "source": [
    "## Import the dataset"
   ]
  },
  {
   "cell_type": "code",
   "execution_count": 2,
   "id": "0b046e83-0efc-4703-931c-23ef9b1388cc",
   "metadata": {},
   "outputs": [],
   "source": [
    "df = pd.read_csv('blogs.csv')"
   ]
  },
  {
   "cell_type": "code",
   "execution_count": 3,
   "id": "9c8dd39d-bacb-4fc9-a8e0-1664c8415c75",
   "metadata": {},
   "outputs": [
    {
     "data": {
      "text/plain": [
       "(2000, 2)"
      ]
     },
     "execution_count": 3,
     "metadata": {},
     "output_type": "execute_result"
    }
   ],
   "source": [
    "df.shape"
   ]
  },
  {
   "cell_type": "code",
   "execution_count": 4,
   "id": "2bc0a0f4-8caf-493e-ad52-d13addcba5db",
   "metadata": {},
   "outputs": [
    {
     "data": {
      "text/plain": [
       "Index(['Data', 'Labels'], dtype='object')"
      ]
     },
     "execution_count": 4,
     "metadata": {},
     "output_type": "execute_result"
    }
   ],
   "source": [
    "df.columns"
   ]
  },
  {
   "cell_type": "code",
   "execution_count": 5,
   "id": "90ecd6fa-f8b9-470f-90fe-a15215955fb2",
   "metadata": {},
   "outputs": [
    {
     "data": {
      "text/plain": [
       "Data      object\n",
       "Labels    object\n",
       "dtype: object"
      ]
     },
     "execution_count": 5,
     "metadata": {},
     "output_type": "execute_result"
    }
   ],
   "source": [
    "df.dtypes"
   ]
  },
  {
   "cell_type": "code",
   "execution_count": 6,
   "id": "57feffed-80b3-4586-9983-9a115b07233c",
   "metadata": {},
   "outputs": [
    {
     "data": {
      "text/html": [
       "<div>\n",
       "<style scoped>\n",
       "    .dataframe tbody tr th:only-of-type {\n",
       "        vertical-align: middle;\n",
       "    }\n",
       "\n",
       "    .dataframe tbody tr th {\n",
       "        vertical-align: top;\n",
       "    }\n",
       "\n",
       "    .dataframe thead th {\n",
       "        text-align: right;\n",
       "    }\n",
       "</style>\n",
       "<table border=\"1\" class=\"dataframe\">\n",
       "  <thead>\n",
       "    <tr style=\"text-align: right;\">\n",
       "      <th></th>\n",
       "      <th>Data</th>\n",
       "      <th>Labels</th>\n",
       "    </tr>\n",
       "  </thead>\n",
       "  <tbody>\n",
       "    <tr>\n",
       "      <th>0</th>\n",
       "      <td>Path: cantaloupe.srv.cs.cmu.edu!magnesium.club...</td>\n",
       "      <td>alt.atheism</td>\n",
       "    </tr>\n",
       "    <tr>\n",
       "      <th>1</th>\n",
       "      <td>Newsgroups: alt.atheism\\nPath: cantaloupe.srv....</td>\n",
       "      <td>alt.atheism</td>\n",
       "    </tr>\n",
       "    <tr>\n",
       "      <th>2</th>\n",
       "      <td>Path: cantaloupe.srv.cs.cmu.edu!das-news.harva...</td>\n",
       "      <td>alt.atheism</td>\n",
       "    </tr>\n",
       "    <tr>\n",
       "      <th>3</th>\n",
       "      <td>Path: cantaloupe.srv.cs.cmu.edu!magnesium.club...</td>\n",
       "      <td>alt.atheism</td>\n",
       "    </tr>\n",
       "    <tr>\n",
       "      <th>4</th>\n",
       "      <td>Xref: cantaloupe.srv.cs.cmu.edu alt.atheism:53...</td>\n",
       "      <td>alt.atheism</td>\n",
       "    </tr>\n",
       "  </tbody>\n",
       "</table>\n",
       "</div>"
      ],
      "text/plain": [
       "                                                Data       Labels\n",
       "0  Path: cantaloupe.srv.cs.cmu.edu!magnesium.club...  alt.atheism\n",
       "1  Newsgroups: alt.atheism\\nPath: cantaloupe.srv....  alt.atheism\n",
       "2  Path: cantaloupe.srv.cs.cmu.edu!das-news.harva...  alt.atheism\n",
       "3  Path: cantaloupe.srv.cs.cmu.edu!magnesium.club...  alt.atheism\n",
       "4  Xref: cantaloupe.srv.cs.cmu.edu alt.atheism:53...  alt.atheism"
      ]
     },
     "execution_count": 6,
     "metadata": {},
     "output_type": "execute_result"
    }
   ],
   "source": [
    "df.head(5)"
   ]
  },
  {
   "cell_type": "code",
   "execution_count": 7,
   "id": "7f886574-e611-4d61-80eb-3c830298b0af",
   "metadata": {},
   "outputs": [
    {
     "data": {
      "text/html": [
       "<div>\n",
       "<style scoped>\n",
       "    .dataframe tbody tr th:only-of-type {\n",
       "        vertical-align: middle;\n",
       "    }\n",
       "\n",
       "    .dataframe tbody tr th {\n",
       "        vertical-align: top;\n",
       "    }\n",
       "\n",
       "    .dataframe thead th {\n",
       "        text-align: right;\n",
       "    }\n",
       "</style>\n",
       "<table border=\"1\" class=\"dataframe\">\n",
       "  <thead>\n",
       "    <tr style=\"text-align: right;\">\n",
       "      <th></th>\n",
       "      <th>Data</th>\n",
       "      <th>Labels</th>\n",
       "    </tr>\n",
       "  </thead>\n",
       "  <tbody>\n",
       "    <tr>\n",
       "      <th>count</th>\n",
       "      <td>2000</td>\n",
       "      <td>2000</td>\n",
       "    </tr>\n",
       "    <tr>\n",
       "      <th>unique</th>\n",
       "      <td>2000</td>\n",
       "      <td>20</td>\n",
       "    </tr>\n",
       "    <tr>\n",
       "      <th>top</th>\n",
       "      <td>Path: cantaloupe.srv.cs.cmu.edu!magnesium.club...</td>\n",
       "      <td>alt.atheism</td>\n",
       "    </tr>\n",
       "    <tr>\n",
       "      <th>freq</th>\n",
       "      <td>1</td>\n",
       "      <td>100</td>\n",
       "    </tr>\n",
       "  </tbody>\n",
       "</table>\n",
       "</div>"
      ],
      "text/plain": [
       "                                                     Data       Labels\n",
       "count                                                2000         2000\n",
       "unique                                               2000           20\n",
       "top     Path: cantaloupe.srv.cs.cmu.edu!magnesium.club...  alt.atheism\n",
       "freq                                                    1          100"
      ]
     },
     "execution_count": 7,
     "metadata": {},
     "output_type": "execute_result"
    }
   ],
   "source": [
    "df.describe()"
   ]
  },
  {
   "cell_type": "markdown",
   "id": "c3dac032-d0f5-4e7a-9968-fe3a83865a39",
   "metadata": {},
   "source": [
    "## Checking for duplicates"
   ]
  },
  {
   "cell_type": "code",
   "execution_count": 8,
   "id": "ce0d30fe-61cf-4e79-a1c9-445070fd636a",
   "metadata": {},
   "outputs": [
    {
     "data": {
      "text/plain": [
       "0       False\n",
       "1       False\n",
       "2       False\n",
       "3       False\n",
       "4       False\n",
       "        ...  \n",
       "1995    False\n",
       "1996    False\n",
       "1997    False\n",
       "1998    False\n",
       "1999    False\n",
       "Length: 2000, dtype: bool"
      ]
     },
     "execution_count": 8,
     "metadata": {},
     "output_type": "execute_result"
    }
   ],
   "source": [
    "df.duplicated()"
   ]
  },
  {
   "cell_type": "code",
   "execution_count": 9,
   "id": "52397930-71b1-42ba-ba6a-d96e99a68864",
   "metadata": {},
   "outputs": [
    {
     "data": {
      "text/html": [
       "<div>\n",
       "<style scoped>\n",
       "    .dataframe tbody tr th:only-of-type {\n",
       "        vertical-align: middle;\n",
       "    }\n",
       "\n",
       "    .dataframe tbody tr th {\n",
       "        vertical-align: top;\n",
       "    }\n",
       "\n",
       "    .dataframe thead th {\n",
       "        text-align: right;\n",
       "    }\n",
       "</style>\n",
       "<table border=\"1\" class=\"dataframe\">\n",
       "  <thead>\n",
       "    <tr style=\"text-align: right;\">\n",
       "      <th></th>\n",
       "      <th>Data</th>\n",
       "      <th>Labels</th>\n",
       "    </tr>\n",
       "  </thead>\n",
       "  <tbody>\n",
       "  </tbody>\n",
       "</table>\n",
       "</div>"
      ],
      "text/plain": [
       "Empty DataFrame\n",
       "Columns: [Data, Labels]\n",
       "Index: []"
      ]
     },
     "execution_count": 9,
     "metadata": {},
     "output_type": "execute_result"
    }
   ],
   "source": [
    "df.loc[df.duplicated()] # Returns duplicated cell"
   ]
  },
  {
   "cell_type": "markdown",
   "id": "134a51b4-68c2-4e9a-bd79-871f6bd6009c",
   "metadata": {},
   "source": [
    "NO duplicate values"
   ]
  },
  {
   "cell_type": "markdown",
   "id": "03b7d4f7-8a03-41e6-9f59-de99f5915daa",
   "metadata": {},
   "source": [
    "## Checking for NULL values"
   ]
  },
  {
   "cell_type": "code",
   "execution_count": 10,
   "id": "98e213e6-facf-4a22-9b91-a4b6d19ee60c",
   "metadata": {},
   "outputs": [
    {
     "data": {
      "text/plain": [
       "Data      0\n",
       "Labels    0\n",
       "dtype: int64"
      ]
     },
     "execution_count": 10,
     "metadata": {},
     "output_type": "execute_result"
    }
   ],
   "source": [
    "df.isna().sum()"
   ]
  },
  {
   "cell_type": "markdown",
   "id": "6ab4aa6c-911a-4fad-a48b-2f473d1d14d0",
   "metadata": {},
   "source": [
    "NO NULL values"
   ]
  },
  {
   "cell_type": "markdown",
   "id": "cacb60f6-dc57-4928-bff4-7af854831122",
   "metadata": {},
   "source": [
    "## Preprocessing the data by converting to lowercase, tokenizing, and removing stopwords."
   ]
  },
  {
   "cell_type": "code",
   "execution_count": 13,
   "id": "7ed223ad-c205-4295-8499-383fb16b79db",
   "metadata": {},
   "outputs": [
    {
     "name": "stderr",
     "output_type": "stream",
     "text": [
      "[nltk_data] Downloading package punkt to\n",
      "[nltk_data]     C:\\Users\\vighn\\AppData\\Roaming\\nltk_data...\n",
      "[nltk_data]   Package punkt is already up-to-date!\n",
      "[nltk_data] Downloading package stopwords to\n",
      "[nltk_data]     C:\\Users\\vighn\\AppData\\Roaming\\nltk_data...\n",
      "[nltk_data]   Package stopwords is already up-to-date!\n",
      "[nltk_data] Downloading package punkt_tab to\n",
      "[nltk_data]     C:\\Users\\vighn\\AppData\\Roaming\\nltk_data...\n",
      "[nltk_data]   Package punkt_tab is already up-to-date!\n"
     ]
    },
    {
     "name": "stdout",
     "output_type": "stream",
     "text": [
      "                                                Data  \\\n",
      "0  Path: cantaloupe.srv.cs.cmu.edu!magnesium.club...   \n",
      "1  Newsgroups: alt.atheism\\nPath: cantaloupe.srv....   \n",
      "2  Path: cantaloupe.srv.cs.cmu.edu!das-news.harva...   \n",
      "3  Path: cantaloupe.srv.cs.cmu.edu!magnesium.club...   \n",
      "4  Xref: cantaloupe.srv.cs.cmu.edu alt.atheism:53...   \n",
      "\n",
      "                                      processed_text       Labels  \n",
      "0  path cantaloupesrvcscmuedumagnesiumclubcccmued...  alt.atheism  \n",
      "1  newsgroup altath path cantaloupesrvcscmueducra...  alt.atheism  \n",
      "2  path cantaloupesrvcscmuedudasnewsharvardedunoc...  alt.atheism  \n",
      "3  path cantaloupesrvcscmuedumagnesiumclubcccmued...  alt.atheism  \n",
      "4  xref cantaloupesrvcscmuedu altath talkreligion...  alt.atheism  \n"
     ]
    }
   ],
   "source": [
    "import pandas as pd\n",
    "import re\n",
    "import nltk\n",
    "from nltk.corpus import stopwords\n",
    "from nltk.tokenize import word_tokenize\n",
    "from nltk.stem import PorterStemmer\n",
    "\n",
    "# Download NLTK resources (only run once)\n",
    "nltk.download('punkt')\n",
    "nltk.download('stopwords')\n",
    "nltk.download('punkt_tab')\n",
    "\n",
    "# Initialize stopwords and stemmer\n",
    "stop_words = set(stopwords.words('english'))\n",
    "stemmer = PorterStemmer()\n",
    "\n",
    "# Preprocessing function\n",
    "def preprocess(text):\n",
    "    text = re.sub(r'[^a-zA-Z\\s]', '', str(text))  # Remove special characters\n",
    "    text = text.lower() # Convert to lowercase\n",
    "    words = word_tokenize(text)\n",
    "    words = [word for word in words if word not in stop_words]\n",
    "    words = [stemmer.stem(word) for word in words]\n",
    "    return ' '.join(words)\n",
    "\n",
    "# Apply preprocessing to the 'Data' column\n",
    "df['processed_text'] = df['Data'].apply(preprocess)\n",
    "\n",
    "# Optional: View result\n",
    "print(df[['Data', 'processed_text', 'Labels']].head())\n"
   ]
  },
  {
   "cell_type": "markdown",
   "id": "3385d9db-9743-446c-8533-31a1533eebf2",
   "metadata": {},
   "source": [
    "## Converting data into TF-IDF format"
   ]
  },
  {
   "cell_type": "code",
   "execution_count": 12,
   "id": "3eb07aab-864a-4a0f-a46e-ef007e3882d0",
   "metadata": {},
   "outputs": [
    {
     "name": "stdout",
     "output_type": "stream",
     "text": [
      "TF-IDF matrix shape: (2000, 5000)\n"
     ]
    }
   ],
   "source": [
    "from sklearn.feature_extraction.text import TfidfVectorizer\n",
    "\n",
    "# Initialize the TF-IDF Vectorizer\n",
    "tfidf = TfidfVectorizer(max_features=5000)  # You can adjust the number of features\n",
    "\n",
    "# Fit and transform the processed text\n",
    "X = tfidf.fit_transform(df['processed_text'])\n",
    "\n",
    "# Check the shape (rows = samples, columns = features)\n",
    "print(\"TF-IDF matrix shape:\", X.shape)"
   ]
  },
  {
   "cell_type": "markdown",
   "id": "418d5497-3cd4-46d0-9c4b-225b0f0fdca2",
   "metadata": {},
   "source": [
    "## Split the dataset"
   ]
  },
  {
   "cell_type": "code",
   "execution_count": 14,
   "id": "2af527a2-91fa-45f5-a21e-8a7c5a4c93ab",
   "metadata": {},
   "outputs": [],
   "source": [
    "from sklearn.model_selection import train_test_split\n",
    "\n",
    "# Features and labels\n",
    "X = tfidf.transform(df['processed_text'])         # Use TF-IDF features\n",
    "y = df['Labels']                                  # Target labels\n",
    "\n",
    "# Split the data: 80% train, 20% test\n",
    "X_train, X_test, y_train, y_test = train_test_split(X, y, test_size=0.2, random_state=42)"
   ]
  },
  {
   "cell_type": "markdown",
   "id": "b1809591-e5d4-4f97-8a87-455eed91ecaa",
   "metadata": {},
   "source": [
    "## Build the model"
   ]
  },
  {
   "cell_type": "code",
   "execution_count": 15,
   "id": "5c61b584-45f5-4c30-a6eb-e777f3721c74",
   "metadata": {},
   "outputs": [],
   "source": [
    "from sklearn.naive_bayes import MultinomialNB\n",
    "\n",
    "# Initialize and train the Naive Bayes model\n",
    "model = MultinomialNB()\n",
    "model.fit(X_train, y_train)\n",
    "\n",
    "# Predict on test set\n",
    "y_pred = model.predict(X_test)"
   ]
  },
  {
   "cell_type": "markdown",
   "id": "ca5cdb49-6d70-4646-b12c-0596dca92e05",
   "metadata": {},
   "source": [
    "## Evaluate the model"
   ]
  },
  {
   "cell_type": "code",
   "execution_count": 16,
   "id": "e81511c1-a543-4d49-91f9-de62971e7d36",
   "metadata": {},
   "outputs": [
    {
     "name": "stdout",
     "output_type": "stream",
     "text": [
      "Accuracy: 0.8425\n",
      "\n",
      "Classification Report:\n",
      "                           precision    recall  f1-score   support\n",
      "\n",
      "             alt.atheism       0.47      0.78      0.58        18\n",
      "           comp.graphics       0.80      0.89      0.84        18\n",
      " comp.os.ms-windows.misc       0.83      0.91      0.87        22\n",
      "comp.sys.ibm.pc.hardware       0.86      0.76      0.81        25\n",
      "   comp.sys.mac.hardware       0.82      0.86      0.84        21\n",
      "          comp.windows.x       0.92      0.88      0.90        25\n",
      "            misc.forsale       1.00      0.72      0.84        18\n",
      "               rec.autos       0.95      1.00      0.97        18\n",
      "         rec.motorcycles       0.88      0.94      0.91        16\n",
      "      rec.sport.baseball       0.86      1.00      0.92        18\n",
      "        rec.sport.hockey       0.94      1.00      0.97        15\n",
      "               sci.crypt       0.86      1.00      0.93        19\n",
      "         sci.electronics       0.68      0.81      0.74        16\n",
      "                 sci.med       0.94      0.88      0.91        17\n",
      "               sci.space       1.00      0.86      0.92        21\n",
      "  soc.religion.christian       0.88      0.96      0.92        23\n",
      "      talk.politics.guns       0.88      0.79      0.83        28\n",
      "   talk.politics.mideast       0.95      0.95      0.95        20\n",
      "      talk.politics.misc       0.84      0.89      0.86        18\n",
      "      talk.religion.misc       0.62      0.21      0.31        24\n",
      "\n",
      "                accuracy                           0.84       400\n",
      "               macro avg       0.85      0.85      0.84       400\n",
      "            weighted avg       0.85      0.84      0.84       400\n",
      "\n"
     ]
    }
   ],
   "source": [
    "from sklearn.metrics import classification_report, accuracy_score\n",
    "\n",
    "# Evaluate the model\n",
    "print(\"Accuracy:\", accuracy_score(y_test, y_pred))\n",
    "print(\"\\nClassification Report:\\n\", classification_report(y_test, y_pred))"
   ]
  },
  {
   "cell_type": "markdown",
   "id": "829906b8-7810-44a7-b95f-256c7f5c069e",
   "metadata": {},
   "source": [
    "## Sentiment Analysis"
   ]
  },
  {
   "cell_type": "markdown",
   "id": "593e94ed-50fa-4dfd-a276-4a2a61fd4f1c",
   "metadata": {},
   "source": [
    "### Using the VADER Sentiment Analyzer from the nltk.sentiment module:\n",
    "\n",
    "### As it is Fast and easy to use, and works well with short and long texts."
   ]
  },
  {
   "cell_type": "markdown",
   "id": "e8a4f5b8-1a3b-454e-802d-1bad3b1c65c7",
   "metadata": {},
   "source": [
    "### Downloading VADER"
   ]
  },
  {
   "cell_type": "code",
   "execution_count": 17,
   "id": "d49e2c72-1567-4bc2-9d60-9b130d87d7ff",
   "metadata": {},
   "outputs": [
    {
     "name": "stderr",
     "output_type": "stream",
     "text": [
      "[nltk_data] Downloading package vader_lexicon to\n",
      "[nltk_data]     C:\\Users\\vighn\\AppData\\Roaming\\nltk_data...\n"
     ]
    },
    {
     "data": {
      "text/plain": [
       "True"
      ]
     },
     "execution_count": 17,
     "metadata": {},
     "output_type": "execute_result"
    }
   ],
   "source": [
    "import nltk\n",
    "nltk.download('vader_lexicon')"
   ]
  },
  {
   "cell_type": "code",
   "execution_count": 19,
   "id": "0ab0642e-47c7-4b53-967a-8f5c75bbb259",
   "metadata": {},
   "outputs": [],
   "source": [
    "from nltk.sentiment.vader import SentimentIntensityAnalyzer\n",
    "\n",
    "# Initialize the analyzer\n",
    "sid = SentimentIntensityAnalyzer()"
   ]
  },
  {
   "cell_type": "markdown",
   "id": "af1a0335-c345-4c68-8673-ca80cd0d8ff0",
   "metadata": {},
   "source": [
    "### Applying VADER on Each Blog or Text in the 'Data' Column"
   ]
  },
  {
   "cell_type": "code",
   "execution_count": 20,
   "id": "e429e604-9267-482a-a2ce-6fa9b0b67fd5",
   "metadata": {},
   "outputs": [],
   "source": [
    "def get_sentiment(text):\n",
    "    score = sid.polarity_scores(str(text))['compound']\n",
    "    if score >= 0.05:\n",
    "        return 'Positive'\n",
    "    elif score <= -0.05:\n",
    "        return 'Negative'\n",
    "    else:\n",
    "        return 'Neutral'\n",
    "\n",
    "# Apply to each blog or text\n",
    "df['Sentiment'] = df['Data'].apply(get_sentiment)"
   ]
  },
  {
   "cell_type": "markdown",
   "id": "aa37db03-4b97-4065-9355-6786b2766fb5",
   "metadata": {},
   "source": [
    "### Analyze Sentiment Distribution"
   ]
  },
  {
   "cell_type": "code",
   "execution_count": 21,
   "id": "9598088d-f292-462f-a2b7-fe62282ff5b5",
   "metadata": {},
   "outputs": [
    {
     "name": "stdout",
     "output_type": "stream",
     "text": [
      "Sentiment Distribution:\n",
      " Positive    1334\n",
      "Negative     631\n",
      "Neutral       35\n",
      "Name: Sentiment, dtype: int64\n"
     ]
    },
    {
     "data": {
      "image/png": "[encoded data removed]",
      "text/plain": [
       "<Figure size 640x480 with 1 Axes>"
      ]
     },
     "metadata": {},
     "output_type": "display_data"
    }
   ],
   "source": [
    "# Count of each sentiment\n",
    "sentiment_counts = df['Sentiment'].value_counts()\n",
    "print(\"Sentiment Distribution:\\n\", sentiment_counts)\n",
    "\n",
    "# Optional: Pie or Bar Chart (requires matplotlib)\n",
    "import matplotlib.pyplot as plt\n",
    "\n",
    "sentiment_counts.plot(kind='bar', color=['green', 'red', 'gray'])\n",
    "plt.title('Distribution of Sentiments in Blog Posts')\n",
    "plt.xlabel('Sentiment')\n",
    "plt.ylabel('Number of Blogs')\n",
    "plt.show()"
   ]
  },
  {
   "cell_type": "markdown",
   "id": "9cc6d20a-1278-4081-ab67-1b921675a02c",
   "metadata": {},
   "source": [
    "## Evaluate the performance of your Naive Bayes classifier"
   ]
  },
  {
   "cell_type": "code",
   "execution_count": 22,
   "id": "a5c92b35-dd76-4880-97ce-a28df59a9adc",
   "metadata": {},
   "outputs": [
    {
     "name": "stdout",
     "output_type": "stream",
     "text": [
      "Accuracy: 0.8425\n",
      "\n",
      "Classification Report:\n",
      "                          precision    recall  f1-score   support\n",
      "\n",
      "             alt.atheism       0.47      0.78      0.58        18\n",
      "           comp.graphics       0.80      0.89      0.84        18\n",
      " comp.os.ms-windows.misc       0.83      0.91      0.87        22\n",
      "comp.sys.ibm.pc.hardware       0.86      0.76      0.81        25\n",
      "   comp.sys.mac.hardware       0.82      0.86      0.84        21\n",
      "          comp.windows.x       0.92      0.88      0.90        25\n",
      "            misc.forsale       1.00      0.72      0.84        18\n",
      "               rec.autos       0.95      1.00      0.97        18\n",
      "         rec.motorcycles       0.88      0.94      0.91        16\n",
      "      rec.sport.baseball       0.86      1.00      0.92        18\n",
      "        rec.sport.hockey       0.94      1.00      0.97        15\n",
      "               sci.crypt       0.86      1.00      0.93        19\n",
      "         sci.electronics       0.68      0.81      0.74        16\n",
      "                 sci.med       0.94      0.88      0.91        17\n",
      "               sci.space       1.00      0.86      0.92        21\n",
      "  soc.religion.christian       0.88      0.96      0.92        23\n",
      "      talk.politics.guns       0.88      0.79      0.83        28\n",
      "   talk.politics.mideast       0.95      0.95      0.95        20\n",
      "      talk.politics.misc       0.84      0.89      0.86        18\n",
      "      talk.religion.misc       0.62      0.21      0.31        24\n",
      "\n",
      "                accuracy                           0.84       400\n",
      "               macro avg       0.85      0.85      0.84       400\n",
      "            weighted avg       0.85      0.84      0.84       400\n",
      "\n"
     ]
    }
   ],
   "source": [
    "from sklearn.metrics import accuracy_score, classification_report, confusion_matrix\n",
    "\n",
    "# Predict on test data\n",
    "y_pred = model.predict(X_test)\n",
    "\n",
    "# Accuracy\n",
    "print(\"Accuracy:\", accuracy_score(y_test, y_pred))\n",
    "\n",
    "# Precision, Recall, F1-Score\n",
    "print(\"\\nClassification Report:\")\n",
    "print(classification_report(y_test, y_pred))"
   ]
  },
  {
   "cell_type": "markdown",
   "id": "9a8c0b64-b080-4f3e-aaee-ba61d06ce7ca",
   "metadata": {},
   "source": [
    "### Challenges Encountered\n",
    "1. Data Quality & Noise:\n",
    "\n",
    "    Blog posts may include slang, informal language, emojis, typos, etc.\n",
    "\n",
    "    This makes it harder for traditional models like Naive Bayes, which assume word independence and can’t capture context.\n",
    "\n",
    "2. Imbalanced Classes:\n",
    "   \n",
    "    If one label (like \"neutral\") dominates, the model may learn to always predict that label, hurting recall for minority classes.\n",
    "\n",
    "3. Naive Bayes Assumptions:\n",
    "   \n",
    "    Naive Bayes assumes that all features (words) are independent, which is not true in natural language.\n",
    "\n",
    "    This limits its ability to capture semantic meaning or word order.\n",
    "\n",
    "4. Limited Feature Representation:\n",
    "   \n",
    "    TF-IDF only captures frequency, not context or word meaning. So similar words (e.g., \"happy\", \"joyful\") are treated differently.\n",
    "\n",
    "    Advanced models (like BERT) solve this but require more compute.\n",
    "\n"
   ]
  },
  {
   "cell_type": "markdown",
   "id": "f35b860c-7dad-4e37-ad55-f97fe5a486ba",
   "metadata": {},
   "source": [
    "## Implications regarding the content of the blog posts.\n",
    "\n",
    "After applying VADER sentiment analysis on the blog posts (Data column), you categorized each post as Positive, Negative, or Neutral.\n",
    "\n",
    "Positive sentiment dominates, suggesting the blog content tends to express optimism, praise, or constructive tone.\n",
    "\n",
    "Neutral blogs may include factual information, news-like writing, or emotionally balanced narratives.\n",
    "\n",
    "Negative posts are fewer, indicating that critical or complaint-oriented content is less common."
   ]
  },
  {
   "cell_type": "code",
   "execution_count": null,
   "id": "8a9c8c2e-47b8-4dfd-a97b-952a1dbc71f8",
   "metadata": {},
   "outputs": [],
   "source": []
  }
 ],
 "metadata": {
  "kernelspec": {
   "display_name": "Python 3 (ipykernel)",
   "language": "python",
   "name": "python3"
  },
  "language_info": {
   "codemirror_mode": {
    "name": "ipython",
    "version": 3
   },
   "file_extension": ".py",
   "mimetype": "text/x-python",
   "name": "python",
   "nbconvert_exporter": "python",
   "pygments_lexer": "ipython3",
   "version": "3.11.4"
  }
 },
 "nbformat": 4,
 "nbformat_minor": 5
}
