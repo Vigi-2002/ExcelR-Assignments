{
 "cells": [
  {
   "cell_type": "markdown",
   "id": "79920fca-e81b-4d27-8760-a48995796c9b",
   "metadata": {},
   "source": [
    "# Neural Networks(Assignment)"
   ]
  },
  {
   "cell_type": "code",
   "execution_count": 1,
   "id": "65781461-3a6d-400b-9cfa-f64e43c70567",
   "metadata": {},
   "outputs": [],
   "source": [
    "import pandas as pd\n",
    "import numpy as np\n",
    "import matplotlib.pyplot as plt\n",
    "import seaborn as sns"
   ]
  },
  {
   "cell_type": "markdown",
   "id": "6bb2903d-d4f1-4494-a111-08584f592de4",
   "metadata": {},
   "source": [
    "## Import the dataset"
   ]
  },
  {
   "cell_type": "code",
   "execution_count": 2,
   "id": "8afb192b-e1fc-497c-a45a-a3b4b95e7944",
   "metadata": {},
   "outputs": [],
   "source": [
    "df = pd.read_csv('Alphabets_data.csv')"
   ]
  },
  {
   "cell_type": "code",
   "execution_count": 3,
   "id": "f9860923-7219-4754-995d-6976e9f6e771",
   "metadata": {},
   "outputs": [
    {
     "data": {
      "text/plain": [
       "(20000, 17)"
      ]
     },
     "execution_count": 3,
     "metadata": {},
     "output_type": "execute_result"
    }
   ],
   "source": [
    "df.shape"
   ]
  },
  {
   "cell_type": "code",
   "execution_count": 4,
   "id": "b2fda00e-78f6-4f7d-83a4-2df2e49b1324",
   "metadata": {},
   "outputs": [
    {
     "data": {
      "text/html": [
       "<div>\n",
       "<style scoped>\n",
       "    .dataframe tbody tr th:only-of-type {\n",
       "        vertical-align: middle;\n",
       "    }\n",
       "\n",
       "    .dataframe tbody tr th {\n",
       "        vertical-align: top;\n",
       "    }\n",
       "\n",
       "    .dataframe thead th {\n",
       "        text-align: right;\n",
       "    }\n",
       "</style>\n",
       "<table border=\"1\" class=\"dataframe\">\n",
       "  <thead>\n",
       "    <tr style=\"text-align: right;\">\n",
       "      <th></th>\n",
       "      <th>letter</th>\n",
       "      <th>xbox</th>\n",
       "      <th>ybox</th>\n",
       "      <th>width</th>\n",
       "      <th>height</th>\n",
       "      <th>onpix</th>\n",
       "      <th>xbar</th>\n",
       "      <th>ybar</th>\n",
       "      <th>x2bar</th>\n",
       "      <th>y2bar</th>\n",
       "      <th>xybar</th>\n",
       "      <th>x2ybar</th>\n",
       "      <th>xy2bar</th>\n",
       "      <th>xedge</th>\n",
       "      <th>xedgey</th>\n",
       "      <th>yedge</th>\n",
       "      <th>yedgex</th>\n",
       "    </tr>\n",
       "  </thead>\n",
       "  <tbody>\n",
       "    <tr>\n",
       "      <th>0</th>\n",
       "      <td>T</td>\n",
       "      <td>2</td>\n",
       "      <td>8</td>\n",
       "      <td>3</td>\n",
       "      <td>5</td>\n",
       "      <td>1</td>\n",
       "      <td>8</td>\n",
       "      <td>13</td>\n",
       "      <td>0</td>\n",
       "      <td>6</td>\n",
       "      <td>6</td>\n",
       "      <td>10</td>\n",
       "      <td>8</td>\n",
       "      <td>0</td>\n",
       "      <td>8</td>\n",
       "      <td>0</td>\n",
       "      <td>8</td>\n",
       "    </tr>\n",
       "    <tr>\n",
       "      <th>1</th>\n",
       "      <td>I</td>\n",
       "      <td>5</td>\n",
       "      <td>12</td>\n",
       "      <td>3</td>\n",
       "      <td>7</td>\n",
       "      <td>2</td>\n",
       "      <td>10</td>\n",
       "      <td>5</td>\n",
       "      <td>5</td>\n",
       "      <td>4</td>\n",
       "      <td>13</td>\n",
       "      <td>3</td>\n",
       "      <td>9</td>\n",
       "      <td>2</td>\n",
       "      <td>8</td>\n",
       "      <td>4</td>\n",
       "      <td>10</td>\n",
       "    </tr>\n",
       "    <tr>\n",
       "      <th>2</th>\n",
       "      <td>D</td>\n",
       "      <td>4</td>\n",
       "      <td>11</td>\n",
       "      <td>6</td>\n",
       "      <td>8</td>\n",
       "      <td>6</td>\n",
       "      <td>10</td>\n",
       "      <td>6</td>\n",
       "      <td>2</td>\n",
       "      <td>6</td>\n",
       "      <td>10</td>\n",
       "      <td>3</td>\n",
       "      <td>7</td>\n",
       "      <td>3</td>\n",
       "      <td>7</td>\n",
       "      <td>3</td>\n",
       "      <td>9</td>\n",
       "    </tr>\n",
       "    <tr>\n",
       "      <th>3</th>\n",
       "      <td>N</td>\n",
       "      <td>7</td>\n",
       "      <td>11</td>\n",
       "      <td>6</td>\n",
       "      <td>6</td>\n",
       "      <td>3</td>\n",
       "      <td>5</td>\n",
       "      <td>9</td>\n",
       "      <td>4</td>\n",
       "      <td>6</td>\n",
       "      <td>4</td>\n",
       "      <td>4</td>\n",
       "      <td>10</td>\n",
       "      <td>6</td>\n",
       "      <td>10</td>\n",
       "      <td>2</td>\n",
       "      <td>8</td>\n",
       "    </tr>\n",
       "    <tr>\n",
       "      <th>4</th>\n",
       "      <td>G</td>\n",
       "      <td>2</td>\n",
       "      <td>1</td>\n",
       "      <td>3</td>\n",
       "      <td>1</td>\n",
       "      <td>1</td>\n",
       "      <td>8</td>\n",
       "      <td>6</td>\n",
       "      <td>6</td>\n",
       "      <td>6</td>\n",
       "      <td>6</td>\n",
       "      <td>5</td>\n",
       "      <td>9</td>\n",
       "      <td>1</td>\n",
       "      <td>7</td>\n",
       "      <td>5</td>\n",
       "      <td>10</td>\n",
       "    </tr>\n",
       "  </tbody>\n",
       "</table>\n",
       "</div>"
      ],
      "text/plain": [
       "  letter  xbox  ybox  width  height  onpix  xbar  ybar  x2bar  y2bar  xybar  \\\n",
       "0      T     2     8      3       5      1     8    13      0      6      6   \n",
       "1      I     5    12      3       7      2    10     5      5      4     13   \n",
       "2      D     4    11      6       8      6    10     6      2      6     10   \n",
       "3      N     7    11      6       6      3     5     9      4      6      4   \n",
       "4      G     2     1      3       1      1     8     6      6      6      6   \n",
       "\n",
       "   x2ybar  xy2bar  xedge  xedgey  yedge  yedgex  \n",
       "0      10       8      0       8      0       8  \n",
       "1       3       9      2       8      4      10  \n",
       "2       3       7      3       7      3       9  \n",
       "3       4      10      6      10      2       8  \n",
       "4       5       9      1       7      5      10  "
      ]
     },
     "execution_count": 4,
     "metadata": {},
     "output_type": "execute_result"
    }
   ],
   "source": [
    "df.head(5)"
   ]
  },
  {
   "cell_type": "code",
   "execution_count": 5,
   "id": "bc739097-7df5-444d-aaa5-9784819b6894",
   "metadata": {},
   "outputs": [
    {
     "data": {
      "text/plain": [
       "Index(['letter', 'xbox', 'ybox', 'width', 'height', 'onpix', 'xbar', 'ybar',\n",
       "       'x2bar', 'y2bar', 'xybar', 'x2ybar', 'xy2bar', 'xedge', 'xedgey',\n",
       "       'yedge', 'yedgex'],\n",
       "      dtype='object')"
      ]
     },
     "execution_count": 5,
     "metadata": {},
     "output_type": "execute_result"
    }
   ],
   "source": [
    "df.columns"
   ]
  },
  {
   "cell_type": "code",
   "execution_count": 6,
   "id": "395feee1-2ee3-45f0-9672-993a8c523432",
   "metadata": {},
   "outputs": [
    {
     "data": {
      "text/plain": [
       "letter    object\n",
       "xbox       int64\n",
       "ybox       int64\n",
       "width      int64\n",
       "height     int64\n",
       "onpix      int64\n",
       "xbar       int64\n",
       "ybar       int64\n",
       "x2bar      int64\n",
       "y2bar      int64\n",
       "xybar      int64\n",
       "x2ybar     int64\n",
       "xy2bar     int64\n",
       "xedge      int64\n",
       "xedgey     int64\n",
       "yedge      int64\n",
       "yedgex     int64\n",
       "dtype: object"
      ]
     },
     "execution_count": 6,
     "metadata": {},
     "output_type": "execute_result"
    }
   ],
   "source": [
    "df.dtypes"
   ]
  },
  {
   "cell_type": "code",
   "execution_count": 7,
   "id": "1ae53a29-37a8-4495-8bab-e1656e8aae39",
   "metadata": {},
   "outputs": [
    {
     "data": {
      "text/html": [
       "<div>\n",
       "<style scoped>\n",
       "    .dataframe tbody tr th:only-of-type {\n",
       "        vertical-align: middle;\n",
       "    }\n",
       "\n",
       "    .dataframe tbody tr th {\n",
       "        vertical-align: top;\n",
       "    }\n",
       "\n",
       "    .dataframe thead th {\n",
       "        text-align: right;\n",
       "    }\n",
       "</style>\n",
       "<table border=\"1\" class=\"dataframe\">\n",
       "  <thead>\n",
       "    <tr style=\"text-align: right;\">\n",
       "      <th></th>\n",
       "      <th>xbox</th>\n",
       "      <th>ybox</th>\n",
       "      <th>width</th>\n",
       "      <th>height</th>\n",
       "      <th>onpix</th>\n",
       "      <th>xbar</th>\n",
       "      <th>ybar</th>\n",
       "      <th>x2bar</th>\n",
       "      <th>y2bar</th>\n",
       "      <th>xybar</th>\n",
       "      <th>x2ybar</th>\n",
       "      <th>xy2bar</th>\n",
       "      <th>xedge</th>\n",
       "      <th>xedgey</th>\n",
       "      <th>yedge</th>\n",
       "      <th>yedgex</th>\n",
       "    </tr>\n",
       "  </thead>\n",
       "  <tbody>\n",
       "    <tr>\n",
       "      <th>count</th>\n",
       "      <td>20000.000000</td>\n",
       "      <td>20000.000000</td>\n",
       "      <td>20000.000000</td>\n",
       "      <td>20000.00000</td>\n",
       "      <td>20000.000000</td>\n",
       "      <td>20000.000000</td>\n",
       "      <td>20000.000000</td>\n",
       "      <td>20000.000000</td>\n",
       "      <td>20000.000000</td>\n",
       "      <td>20000.000000</td>\n",
       "      <td>20000.00000</td>\n",
       "      <td>20000.000000</td>\n",
       "      <td>20000.000000</td>\n",
       "      <td>20000.000000</td>\n",
       "      <td>20000.000000</td>\n",
       "      <td>20000.00000</td>\n",
       "    </tr>\n",
       "    <tr>\n",
       "      <th>mean</th>\n",
       "      <td>4.023550</td>\n",
       "      <td>7.035500</td>\n",
       "      <td>5.121850</td>\n",
       "      <td>5.37245</td>\n",
       "      <td>3.505850</td>\n",
       "      <td>6.897600</td>\n",
       "      <td>7.500450</td>\n",
       "      <td>4.628600</td>\n",
       "      <td>5.178650</td>\n",
       "      <td>8.282050</td>\n",
       "      <td>6.45400</td>\n",
       "      <td>7.929000</td>\n",
       "      <td>3.046100</td>\n",
       "      <td>8.338850</td>\n",
       "      <td>3.691750</td>\n",
       "      <td>7.80120</td>\n",
       "    </tr>\n",
       "    <tr>\n",
       "      <th>std</th>\n",
       "      <td>1.913212</td>\n",
       "      <td>3.304555</td>\n",
       "      <td>2.014573</td>\n",
       "      <td>2.26139</td>\n",
       "      <td>2.190458</td>\n",
       "      <td>2.026035</td>\n",
       "      <td>2.325354</td>\n",
       "      <td>2.699968</td>\n",
       "      <td>2.380823</td>\n",
       "      <td>2.488475</td>\n",
       "      <td>2.63107</td>\n",
       "      <td>2.080619</td>\n",
       "      <td>2.332541</td>\n",
       "      <td>1.546722</td>\n",
       "      <td>2.567073</td>\n",
       "      <td>1.61747</td>\n",
       "    </tr>\n",
       "    <tr>\n",
       "      <th>min</th>\n",
       "      <td>0.000000</td>\n",
       "      <td>0.000000</td>\n",
       "      <td>0.000000</td>\n",
       "      <td>0.00000</td>\n",
       "      <td>0.000000</td>\n",
       "      <td>0.000000</td>\n",
       "      <td>0.000000</td>\n",
       "      <td>0.000000</td>\n",
       "      <td>0.000000</td>\n",
       "      <td>0.000000</td>\n",
       "      <td>0.00000</td>\n",
       "      <td>0.000000</td>\n",
       "      <td>0.000000</td>\n",
       "      <td>0.000000</td>\n",
       "      <td>0.000000</td>\n",
       "      <td>0.00000</td>\n",
       "    </tr>\n",
       "    <tr>\n",
       "      <th>25%</th>\n",
       "      <td>3.000000</td>\n",
       "      <td>5.000000</td>\n",
       "      <td>4.000000</td>\n",
       "      <td>4.00000</td>\n",
       "      <td>2.000000</td>\n",
       "      <td>6.000000</td>\n",
       "      <td>6.000000</td>\n",
       "      <td>3.000000</td>\n",
       "      <td>4.000000</td>\n",
       "      <td>7.000000</td>\n",
       "      <td>5.00000</td>\n",
       "      <td>7.000000</td>\n",
       "      <td>1.000000</td>\n",
       "      <td>8.000000</td>\n",
       "      <td>2.000000</td>\n",
       "      <td>7.00000</td>\n",
       "    </tr>\n",
       "    <tr>\n",
       "      <th>50%</th>\n",
       "      <td>4.000000</td>\n",
       "      <td>7.000000</td>\n",
       "      <td>5.000000</td>\n",
       "      <td>6.00000</td>\n",
       "      <td>3.000000</td>\n",
       "      <td>7.000000</td>\n",
       "      <td>7.000000</td>\n",
       "      <td>4.000000</td>\n",
       "      <td>5.000000</td>\n",
       "      <td>8.000000</td>\n",
       "      <td>6.00000</td>\n",
       "      <td>8.000000</td>\n",
       "      <td>3.000000</td>\n",
       "      <td>8.000000</td>\n",
       "      <td>3.000000</td>\n",
       "      <td>8.00000</td>\n",
       "    </tr>\n",
       "    <tr>\n",
       "      <th>75%</th>\n",
       "      <td>5.000000</td>\n",
       "      <td>9.000000</td>\n",
       "      <td>6.000000</td>\n",
       "      <td>7.00000</td>\n",
       "      <td>5.000000</td>\n",
       "      <td>8.000000</td>\n",
       "      <td>9.000000</td>\n",
       "      <td>6.000000</td>\n",
       "      <td>7.000000</td>\n",
       "      <td>10.000000</td>\n",
       "      <td>8.00000</td>\n",
       "      <td>9.000000</td>\n",
       "      <td>4.000000</td>\n",
       "      <td>9.000000</td>\n",
       "      <td>5.000000</td>\n",
       "      <td>9.00000</td>\n",
       "    </tr>\n",
       "    <tr>\n",
       "      <th>max</th>\n",
       "      <td>15.000000</td>\n",
       "      <td>15.000000</td>\n",
       "      <td>15.000000</td>\n",
       "      <td>15.00000</td>\n",
       "      <td>15.000000</td>\n",
       "      <td>15.000000</td>\n",
       "      <td>15.000000</td>\n",
       "      <td>15.000000</td>\n",
       "      <td>15.000000</td>\n",
       "      <td>15.000000</td>\n",
       "      <td>15.00000</td>\n",
       "      <td>15.000000</td>\n",
       "      <td>15.000000</td>\n",
       "      <td>15.000000</td>\n",
       "      <td>15.000000</td>\n",
       "      <td>15.00000</td>\n",
       "    </tr>\n",
       "  </tbody>\n",
       "</table>\n",
       "</div>"
      ],
      "text/plain": [
       "               xbox          ybox         width       height         onpix  \\\n",
       "count  20000.000000  20000.000000  20000.000000  20000.00000  20000.000000   \n",
       "mean       4.023550      7.035500      5.121850      5.37245      3.505850   \n",
       "std        1.913212      3.304555      2.014573      2.26139      2.190458   \n",
       "min        0.000000      0.000000      0.000000      0.00000      0.000000   \n",
       "25%        3.000000      5.000000      4.000000      4.00000      2.000000   \n",
       "50%        4.000000      7.000000      5.000000      6.00000      3.000000   \n",
       "75%        5.000000      9.000000      6.000000      7.00000      5.000000   \n",
       "max       15.000000     15.000000     15.000000     15.00000     15.000000   \n",
       "\n",
       "               xbar          ybar         x2bar         y2bar         xybar  \\\n",
       "count  20000.000000  20000.000000  20000.000000  20000.000000  20000.000000   \n",
       "mean       6.897600      7.500450      4.628600      5.178650      8.282050   \n",
       "std        2.026035      2.325354      2.699968      2.380823      2.488475   \n",
       "min        0.000000      0.000000      0.000000      0.000000      0.000000   \n",
       "25%        6.000000      6.000000      3.000000      4.000000      7.000000   \n",
       "50%        7.000000      7.000000      4.000000      5.000000      8.000000   \n",
       "75%        8.000000      9.000000      6.000000      7.000000     10.000000   \n",
       "max       15.000000     15.000000     15.000000     15.000000     15.000000   \n",
       "\n",
       "            x2ybar        xy2bar         xedge        xedgey         yedge  \\\n",
       "count  20000.00000  20000.000000  20000.000000  20000.000000  20000.000000   \n",
       "mean       6.45400      7.929000      3.046100      8.338850      3.691750   \n",
       "std        2.63107      2.080619      2.332541      1.546722      2.567073   \n",
       "min        0.00000      0.000000      0.000000      0.000000      0.000000   \n",
       "25%        5.00000      7.000000      1.000000      8.000000      2.000000   \n",
       "50%        6.00000      8.000000      3.000000      8.000000      3.000000   \n",
       "75%        8.00000      9.000000      4.000000      9.000000      5.000000   \n",
       "max       15.00000     15.000000     15.000000     15.000000     15.000000   \n",
       "\n",
       "            yedgex  \n",
       "count  20000.00000  \n",
       "mean       7.80120  \n",
       "std        1.61747  \n",
       "min        0.00000  \n",
       "25%        7.00000  \n",
       "50%        8.00000  \n",
       "75%        9.00000  \n",
       "max       15.00000  "
      ]
     },
     "execution_count": 7,
     "metadata": {},
     "output_type": "execute_result"
    }
   ],
   "source": [
    "df.describe()"
   ]
  },
  {
   "cell_type": "markdown",
   "id": "1c1c7791-0cf0-4f8e-82a7-7a78ee4195a4",
   "metadata": {},
   "source": [
    "## Checking for duplicates"
   ]
  },
  {
   "cell_type": "code",
   "execution_count": 8,
   "id": "d04e5475-a57b-4302-aa85-25f2f04a022d",
   "metadata": {},
   "outputs": [
    {
     "data": {
      "text/plain": [
       "0        False\n",
       "1        False\n",
       "2        False\n",
       "3        False\n",
       "4        False\n",
       "         ...  \n",
       "19995    False\n",
       "19996    False\n",
       "19997    False\n",
       "19998     True\n",
       "19999    False\n",
       "Length: 20000, dtype: bool"
      ]
     },
     "execution_count": 8,
     "metadata": {},
     "output_type": "execute_result"
    }
   ],
   "source": [
    "df.duplicated()"
   ]
  },
  {
   "cell_type": "code",
   "execution_count": 9,
   "id": "945829ce-4203-4e69-b637-89e28ff9fad7",
   "metadata": {},
   "outputs": [
    {
     "data": {
      "text/html": [
       "<div>\n",
       "<style scoped>\n",
       "    .dataframe tbody tr th:only-of-type {\n",
       "        vertical-align: middle;\n",
       "    }\n",
       "\n",
       "    .dataframe tbody tr th {\n",
       "        vertical-align: top;\n",
       "    }\n",
       "\n",
       "    .dataframe thead th {\n",
       "        text-align: right;\n",
       "    }\n",
       "</style>\n",
       "<table border=\"1\" class=\"dataframe\">\n",
       "  <thead>\n",
       "    <tr style=\"text-align: right;\">\n",
       "      <th></th>\n",
       "      <th>letter</th>\n",
       "      <th>xbox</th>\n",
       "      <th>ybox</th>\n",
       "      <th>width</th>\n",
       "      <th>height</th>\n",
       "      <th>onpix</th>\n",
       "      <th>xbar</th>\n",
       "      <th>ybar</th>\n",
       "      <th>x2bar</th>\n",
       "      <th>y2bar</th>\n",
       "      <th>xybar</th>\n",
       "      <th>x2ybar</th>\n",
       "      <th>xy2bar</th>\n",
       "      <th>xedge</th>\n",
       "      <th>xedgey</th>\n",
       "      <th>yedge</th>\n",
       "      <th>yedgex</th>\n",
       "    </tr>\n",
       "  </thead>\n",
       "  <tbody>\n",
       "    <tr>\n",
       "      <th>627</th>\n",
       "      <td>I</td>\n",
       "      <td>3</td>\n",
       "      <td>7</td>\n",
       "      <td>4</td>\n",
       "      <td>5</td>\n",
       "      <td>2</td>\n",
       "      <td>7</td>\n",
       "      <td>7</td>\n",
       "      <td>0</td>\n",
       "      <td>7</td>\n",
       "      <td>13</td>\n",
       "      <td>6</td>\n",
       "      <td>8</td>\n",
       "      <td>0</td>\n",
       "      <td>8</td>\n",
       "      <td>1</td>\n",
       "      <td>7</td>\n",
       "    </tr>\n",
       "    <tr>\n",
       "      <th>724</th>\n",
       "      <td>L</td>\n",
       "      <td>3</td>\n",
       "      <td>6</td>\n",
       "      <td>3</td>\n",
       "      <td>4</td>\n",
       "      <td>1</td>\n",
       "      <td>1</td>\n",
       "      <td>0</td>\n",
       "      <td>6</td>\n",
       "      <td>6</td>\n",
       "      <td>0</td>\n",
       "      <td>1</td>\n",
       "      <td>5</td>\n",
       "      <td>0</td>\n",
       "      <td>8</td>\n",
       "      <td>0</td>\n",
       "      <td>8</td>\n",
       "    </tr>\n",
       "    <tr>\n",
       "      <th>730</th>\n",
       "      <td>I</td>\n",
       "      <td>1</td>\n",
       "      <td>9</td>\n",
       "      <td>0</td>\n",
       "      <td>6</td>\n",
       "      <td>0</td>\n",
       "      <td>7</td>\n",
       "      <td>7</td>\n",
       "      <td>4</td>\n",
       "      <td>4</td>\n",
       "      <td>7</td>\n",
       "      <td>6</td>\n",
       "      <td>8</td>\n",
       "      <td>0</td>\n",
       "      <td>8</td>\n",
       "      <td>0</td>\n",
       "      <td>8</td>\n",
       "    </tr>\n",
       "    <tr>\n",
       "      <th>910</th>\n",
       "      <td>X</td>\n",
       "      <td>5</td>\n",
       "      <td>11</td>\n",
       "      <td>6</td>\n",
       "      <td>8</td>\n",
       "      <td>2</td>\n",
       "      <td>7</td>\n",
       "      <td>7</td>\n",
       "      <td>5</td>\n",
       "      <td>4</td>\n",
       "      <td>7</td>\n",
       "      <td>6</td>\n",
       "      <td>8</td>\n",
       "      <td>3</td>\n",
       "      <td>8</td>\n",
       "      <td>4</td>\n",
       "      <td>8</td>\n",
       "    </tr>\n",
       "    <tr>\n",
       "      <th>943</th>\n",
       "      <td>O</td>\n",
       "      <td>2</td>\n",
       "      <td>3</td>\n",
       "      <td>2</td>\n",
       "      <td>1</td>\n",
       "      <td>1</td>\n",
       "      <td>8</td>\n",
       "      <td>7</td>\n",
       "      <td>6</td>\n",
       "      <td>4</td>\n",
       "      <td>9</td>\n",
       "      <td>6</td>\n",
       "      <td>8</td>\n",
       "      <td>2</td>\n",
       "      <td>8</td>\n",
       "      <td>3</td>\n",
       "      <td>8</td>\n",
       "    </tr>\n",
       "    <tr>\n",
       "      <th>...</th>\n",
       "      <td>...</td>\n",
       "      <td>...</td>\n",
       "      <td>...</td>\n",
       "      <td>...</td>\n",
       "      <td>...</td>\n",
       "      <td>...</td>\n",
       "      <td>...</td>\n",
       "      <td>...</td>\n",
       "      <td>...</td>\n",
       "      <td>...</td>\n",
       "      <td>...</td>\n",
       "      <td>...</td>\n",
       "      <td>...</td>\n",
       "      <td>...</td>\n",
       "      <td>...</td>\n",
       "      <td>...</td>\n",
       "      <td>...</td>\n",
       "    </tr>\n",
       "    <tr>\n",
       "      <th>19948</th>\n",
       "      <td>T</td>\n",
       "      <td>4</td>\n",
       "      <td>5</td>\n",
       "      <td>4</td>\n",
       "      <td>4</td>\n",
       "      <td>2</td>\n",
       "      <td>6</td>\n",
       "      <td>11</td>\n",
       "      <td>2</td>\n",
       "      <td>7</td>\n",
       "      <td>11</td>\n",
       "      <td>9</td>\n",
       "      <td>4</td>\n",
       "      <td>1</td>\n",
       "      <td>11</td>\n",
       "      <td>2</td>\n",
       "      <td>4</td>\n",
       "    </tr>\n",
       "    <tr>\n",
       "      <th>19950</th>\n",
       "      <td>O</td>\n",
       "      <td>4</td>\n",
       "      <td>5</td>\n",
       "      <td>5</td>\n",
       "      <td>4</td>\n",
       "      <td>3</td>\n",
       "      <td>7</td>\n",
       "      <td>7</td>\n",
       "      <td>8</td>\n",
       "      <td>5</td>\n",
       "      <td>7</td>\n",
       "      <td>6</td>\n",
       "      <td>8</td>\n",
       "      <td>2</td>\n",
       "      <td>8</td>\n",
       "      <td>3</td>\n",
       "      <td>8</td>\n",
       "    </tr>\n",
       "    <tr>\n",
       "      <th>19975</th>\n",
       "      <td>E</td>\n",
       "      <td>1</td>\n",
       "      <td>0</td>\n",
       "      <td>1</td>\n",
       "      <td>0</td>\n",
       "      <td>0</td>\n",
       "      <td>5</td>\n",
       "      <td>8</td>\n",
       "      <td>5</td>\n",
       "      <td>7</td>\n",
       "      <td>7</td>\n",
       "      <td>6</td>\n",
       "      <td>12</td>\n",
       "      <td>0</td>\n",
       "      <td>8</td>\n",
       "      <td>6</td>\n",
       "      <td>10</td>\n",
       "    </tr>\n",
       "    <tr>\n",
       "      <th>19987</th>\n",
       "      <td>L</td>\n",
       "      <td>3</td>\n",
       "      <td>7</td>\n",
       "      <td>3</td>\n",
       "      <td>5</td>\n",
       "      <td>1</td>\n",
       "      <td>0</td>\n",
       "      <td>1</td>\n",
       "      <td>6</td>\n",
       "      <td>6</td>\n",
       "      <td>0</td>\n",
       "      <td>0</td>\n",
       "      <td>6</td>\n",
       "      <td>0</td>\n",
       "      <td>8</td>\n",
       "      <td>0</td>\n",
       "      <td>8</td>\n",
       "    </tr>\n",
       "    <tr>\n",
       "      <th>19998</th>\n",
       "      <td>S</td>\n",
       "      <td>2</td>\n",
       "      <td>3</td>\n",
       "      <td>4</td>\n",
       "      <td>2</td>\n",
       "      <td>1</td>\n",
       "      <td>8</td>\n",
       "      <td>7</td>\n",
       "      <td>2</td>\n",
       "      <td>6</td>\n",
       "      <td>10</td>\n",
       "      <td>6</td>\n",
       "      <td>8</td>\n",
       "      <td>1</td>\n",
       "      <td>9</td>\n",
       "      <td>5</td>\n",
       "      <td>8</td>\n",
       "    </tr>\n",
       "  </tbody>\n",
       "</table>\n",
       "<p>1332 rows × 17 columns</p>\n",
       "</div>"
      ],
      "text/plain": [
       "      letter  xbox  ybox  width  height  onpix  xbar  ybar  x2bar  y2bar  \\\n",
       "627        I     3     7      4       5      2     7     7      0      7   \n",
       "724        L     3     6      3       4      1     1     0      6      6   \n",
       "730        I     1     9      0       6      0     7     7      4      4   \n",
       "910        X     5    11      6       8      2     7     7      5      4   \n",
       "943        O     2     3      2       1      1     8     7      6      4   \n",
       "...      ...   ...   ...    ...     ...    ...   ...   ...    ...    ...   \n",
       "19948      T     4     5      4       4      2     6    11      2      7   \n",
       "19950      O     4     5      5       4      3     7     7      8      5   \n",
       "19975      E     1     0      1       0      0     5     8      5      7   \n",
       "19987      L     3     7      3       5      1     0     1      6      6   \n",
       "19998      S     2     3      4       2      1     8     7      2      6   \n",
       "\n",
       "       xybar  x2ybar  xy2bar  xedge  xedgey  yedge  yedgex  \n",
       "627       13       6       8      0       8      1       7  \n",
       "724        0       1       5      0       8      0       8  \n",
       "730        7       6       8      0       8      0       8  \n",
       "910        7       6       8      3       8      4       8  \n",
       "943        9       6       8      2       8      3       8  \n",
       "...      ...     ...     ...    ...     ...    ...     ...  \n",
       "19948     11       9       4      1      11      2       4  \n",
       "19950      7       6       8      2       8      3       8  \n",
       "19975      7       6      12      0       8      6      10  \n",
       "19987      0       0       6      0       8      0       8  \n",
       "19998     10       6       8      1       9      5       8  \n",
       "\n",
       "[1332 rows x 17 columns]"
      ]
     },
     "execution_count": 9,
     "metadata": {},
     "output_type": "execute_result"
    }
   ],
   "source": [
    "df.loc[df.duplicated()] # Returns duplicated cell"
   ]
  },
  {
   "cell_type": "markdown",
   "id": "77bd7c18-390b-4d80-ad3b-14337f290277",
   "metadata": {},
   "source": [
    "### Removing duplicates"
   ]
  },
  {
   "cell_type": "code",
   "execution_count": 10,
   "id": "0aa3535f-d8b0-417f-84d2-095c439c16fb",
   "metadata": {},
   "outputs": [
    {
     "data": {
      "text/plain": [
       "(18668, 17)"
      ]
     },
     "execution_count": 10,
     "metadata": {},
     "output_type": "execute_result"
    }
   ],
   "source": [
    "df = df.drop_duplicates()\n",
    "df.shape"
   ]
  },
  {
   "cell_type": "markdown",
   "id": "729e417e-c856-4b05-b5fc-62e1391b3259",
   "metadata": {},
   "source": [
    "## Checking for NULL values"
   ]
  },
  {
   "cell_type": "code",
   "execution_count": 11,
   "id": "65789a57-6d84-46b9-aff7-98353ac636d5",
   "metadata": {},
   "outputs": [
    {
     "data": {
      "text/plain": [
       "letter    0\n",
       "xbox      0\n",
       "ybox      0\n",
       "width     0\n",
       "height    0\n",
       "onpix     0\n",
       "xbar      0\n",
       "ybar      0\n",
       "x2bar     0\n",
       "y2bar     0\n",
       "xybar     0\n",
       "x2ybar    0\n",
       "xy2bar    0\n",
       "xedge     0\n",
       "xedgey    0\n",
       "yedge     0\n",
       "yedgex    0\n",
       "dtype: int64"
      ]
     },
     "execution_count": 11,
     "metadata": {},
     "output_type": "execute_result"
    }
   ],
   "source": [
    "df.isna().sum()"
   ]
  },
  {
   "cell_type": "markdown",
   "id": "4c5a7016-97fd-41c1-860e-e740026ba2df",
   "metadata": {},
   "source": [
    "NO NULL values"
   ]
  },
  {
   "cell_type": "markdown",
   "id": "93623651-a7bb-4693-8998-f4cdcd1b9806",
   "metadata": {},
   "source": [
    "## Visualizing the features"
   ]
  },
  {
   "cell_type": "code",
   "execution_count": 12,
   "id": "fd7964fe-b30f-4e1d-b06a-da3738388033",
   "metadata": {},
   "outputs": [
    {
     "data": {
      "text/plain": [
       "0        T\n",
       "1        I\n",
       "2        D\n",
       "3        N\n",
       "4        G\n",
       "        ..\n",
       "19994    T\n",
       "19995    D\n",
       "19996    C\n",
       "19997    T\n",
       "19999    A\n",
       "Name: letter, Length: 18668, dtype: string"
      ]
     },
     "execution_count": 12,
     "metadata": {},
     "output_type": "execute_result"
    }
   ],
   "source": [
    "# Converting categorical columns to string for better plots\n",
    "\n",
    "df['letter'].astype('string')"
   ]
  },
  {
   "cell_type": "code",
   "execution_count": 13,
   "id": "305b045a-ee73-40a1-bfd4-af1baad4f040",
   "metadata": {},
   "outputs": [],
   "source": [
    "# Ensure all features except 'letter' are numeric\n",
    "\n",
    "for col in df.columns:\n",
    "    if col != 'letter':\n",
    "        df[col] = pd.to_numeric(df[col], errors='coerce')"
   ]
  },
  {
   "cell_type": "code",
   "execution_count": 14,
   "id": "b6a21677-6e69-438b-b181-f1e2a852baae",
   "metadata": {},
   "outputs": [
    {
     "data": {
      "text/plain": [
       "[]"
      ]
     },
     "execution_count": 14,
     "metadata": {},
     "output_type": "execute_result"
    },
    {
     "data": {
      "image/png": "[encoded data removed]",
      "text/plain": [
       "<Figure size 1000x1000 with 20 Axes>"
      ]
     },
     "metadata": {},
     "output_type": "display_data"
    }
   ],
   "source": [
    "# Plot 1: Letter by width and height and onpix\n",
    "\n",
    "sns.pairplot(df, vars = ['letter', 'width', 'height', 'onpix'])\n",
    "plt.plot()"
   ]
  },
  {
   "cell_type": "code",
   "execution_count": 15,
   "id": "c4ffb3a1-d06d-4fe0-94f8-38b9115c53e1",
   "metadata": {},
   "outputs": [
    {
     "data": {
      "image/png": "[encoded data removed]",
      "text/plain": [
       "<Figure size 1200x1000 with 2 Axes>"
      ]
     },
     "metadata": {},
     "output_type": "display_data"
    }
   ],
   "source": [
    "# Plot 2: Heatmap of numerical features\n",
    "\n",
    "corr = df.drop(columns=['letter']).corr()\n",
    "\n",
    "# Plot heatmap\n",
    "plt.figure(figsize=(12, 10))\n",
    "sns.heatmap(corr, annot=True, cmap='coolwarm')\n",
    "plt.title(\"Feature Correlation Heatmap\")\n",
    "plt.show()"
   ]
  },
  {
   "cell_type": "markdown",
   "id": "354606eb-4ae1-4316-a23e-4c4d0e4b036f",
   "metadata": {},
   "source": [
    "## Model Implementation"
   ]
  },
  {
   "cell_type": "markdown",
   "id": "d52d76bc-4524-46e1-ad55-222c69844a8b",
   "metadata": {},
   "source": [
    "### Split the dataset"
   ]
  },
  {
   "cell_type": "code",
   "execution_count": 16,
   "id": "7c2fceab-e8c9-4a92-b54b-3a85d4bcd70e",
   "metadata": {},
   "outputs": [],
   "source": [
    "from sklearn.model_selection import train_test_split\n",
    "\n",
    "X = df.drop(columns=['letter']) #Features\n",
    "y = df['letter'] # Target\n",
    "\n",
    "# Encoding and Scaling the dataset\n",
    "from sklearn.preprocessing import LabelEncoder, StandardScaler\n",
    "\n",
    "from tensorflow.keras.utils import to_categorical\n",
    "# Performing Label Encoding before One-Hot Encoding because Label encoder maps string labels to integers.\n",
    "#This is necessary because most one-hot encoders expect integer labels, not strings.\n",
    "# Not using: pd.get_dummies(), as ould mismatch the output layer and isn't compatible with Keras loss functions.\n",
    "\n",
    "# Encoding\n",
    "label_encoder = LabelEncoder()\n",
    "y_encoded = label_encoder.fit_transform(y)\n",
    "y_onehot = to_categorical(y_encoded)  # One-hot encoding for multi-class\n",
    "\n",
    "# Scale the features\n",
    "scaler = StandardScaler()\n",
    "X_scaled = scaler.fit_transform(X)\n",
    "\n",
    "# Train-test split\n",
    "X_train, X_test, y_train, y_test = train_test_split(X_scaled, y_onehot, test_size=0.2, random_state=42)"
   ]
  },
  {
   "cell_type": "markdown",
   "id": "3430e955-e5d7-4f61-83cb-b7bb6d216dff",
   "metadata": {},
   "source": [
    "## Build ANN model"
   ]
  },
  {
   "cell_type": "code",
   "execution_count": 17,
   "id": "d5f7af60-b5fc-49ad-a3f9-435f0acfa6b0",
   "metadata": {},
   "outputs": [],
   "source": [
    "from tensorflow.keras.models import Sequential\n",
    "from tensorflow.keras.layers import Dense\n",
    "\n",
    "model = Sequential()\n",
    "model.add(Dense(64, input_shape=(X_train.shape[1],), activation='relu'))  # Hidden layer\n",
    "model.add(Dense(26, activation='softmax'))  # Output layer (26 classes for A–Z)"
   ]
  },
  {
   "cell_type": "markdown",
   "id": "e07f8a95-7021-4a9c-83a8-4aa6300c7a70",
   "metadata": {},
   "source": [
    "## Compile the model"
   ]
  },
  {
   "cell_type": "code",
   "execution_count": 18,
   "id": "b2acb148-a334-48a4-8128-86fc3767768a",
   "metadata": {},
   "outputs": [],
   "source": [
    "model.compile(optimizer='adam', loss='categorical_crossentropy', metrics=['accuracy'])"
   ]
  },
  {
   "cell_type": "markdown",
   "id": "3d4b7219-8a18-4eb1-96b1-3727ab18705d",
   "metadata": {},
   "source": [
    "## Train the model"
   ]
  },
  {
   "cell_type": "code",
   "execution_count": 19,
   "id": "0412630a-7edf-4fe9-83f6-4731e4a0b96e",
   "metadata": {},
   "outputs": [
    {
     "name": "stdout",
     "output_type": "stream",
     "text": [
      "Epoch 1/20\n",
      "420/420 [==============================] - 4s 6ms/step - loss: 2.1545 - accuracy: 0.4370 - val_loss: 1.4351 - val_accuracy: 0.6225\n",
      "Epoch 2/20\n",
      "420/420 [==============================] - 2s 5ms/step - loss: 1.1563 - accuracy: 0.6994 - val_loss: 1.0372 - val_accuracy: 0.7008\n",
      "Epoch 3/20\n",
      "420/420 [==============================] - 2s 4ms/step - loss: 0.8995 - accuracy: 0.7531 - val_loss: 0.8782 - val_accuracy: 0.7376\n",
      "Epoch 4/20\n",
      "420/420 [==============================] - 2s 4ms/step - loss: 0.7684 - accuracy: 0.7837 - val_loss: 0.7757 - val_accuracy: 0.7731\n",
      "Epoch 5/20\n",
      "420/420 [==============================] - 2s 4ms/step - loss: 0.6786 - accuracy: 0.8050 - val_loss: 0.7002 - val_accuracy: 0.7965\n",
      "Epoch 6/20\n",
      "420/420 [==============================] - 2s 5ms/step - loss: 0.6128 - accuracy: 0.8235 - val_loss: 0.6471 - val_accuracy: 0.8099\n",
      "Epoch 7/20\n",
      "420/420 [==============================] - 2s 4ms/step - loss: 0.5594 - accuracy: 0.8386 - val_loss: 0.6012 - val_accuracy: 0.8300\n",
      "Epoch 8/20\n",
      "420/420 [==============================] - 2s 5ms/step - loss: 0.5157 - accuracy: 0.8516 - val_loss: 0.5755 - val_accuracy: 0.8373\n",
      "Epoch 9/20\n",
      "420/420 [==============================] - 2s 4ms/step - loss: 0.4799 - accuracy: 0.8612 - val_loss: 0.5356 - val_accuracy: 0.8454\n",
      "Epoch 10/20\n",
      "420/420 [==============================] - 2s 4ms/step - loss: 0.4492 - accuracy: 0.8686 - val_loss: 0.5068 - val_accuracy: 0.8514\n",
      "Epoch 11/20\n",
      "420/420 [==============================] - 2s 4ms/step - loss: 0.4228 - accuracy: 0.8777 - val_loss: 0.4820 - val_accuracy: 0.8561\n",
      "Epoch 12/20\n",
      "420/420 [==============================] - 2s 4ms/step - loss: 0.4002 - accuracy: 0.8823 - val_loss: 0.4673 - val_accuracy: 0.8581\n",
      "Epoch 13/20\n",
      "420/420 [==============================] - 2s 5ms/step - loss: 0.3810 - accuracy: 0.8908 - val_loss: 0.4431 - val_accuracy: 0.8668\n",
      "Epoch 14/20\n",
      "420/420 [==============================] - 2s 5ms/step - loss: 0.3634 - accuracy: 0.8950 - val_loss: 0.4269 - val_accuracy: 0.8735\n",
      "Epoch 15/20\n",
      "420/420 [==============================] - 2s 5ms/step - loss: 0.3471 - accuracy: 0.9004 - val_loss: 0.4123 - val_accuracy: 0.8775\n",
      "Epoch 16/20\n",
      "420/420 [==============================] - 2s 4ms/step - loss: 0.3326 - accuracy: 0.9042 - val_loss: 0.4064 - val_accuracy: 0.8755\n",
      "Epoch 17/20\n",
      "420/420 [==============================] - 2s 5ms/step - loss: 0.3196 - accuracy: 0.9071 - val_loss: 0.3900 - val_accuracy: 0.8869\n",
      "Epoch 18/20\n",
      "420/420 [==============================] - 2s 5ms/step - loss: 0.3084 - accuracy: 0.9128 - val_loss: 0.3804 - val_accuracy: 0.8876\n",
      "Epoch 19/20\n",
      "420/420 [==============================] - 2s 4ms/step - loss: 0.2981 - accuracy: 0.9135 - val_loss: 0.3720 - val_accuracy: 0.8889\n",
      "Epoch 20/20\n",
      "420/420 [==============================] - 2s 4ms/step - loss: 0.2876 - accuracy: 0.9161 - val_loss: 0.3594 - val_accuracy: 0.8942\n"
     ]
    },
    {
     "data": {
      "text/plain": [
       "<keras.src.callbacks.History at 0x2458b50ec50>"
      ]
     },
     "execution_count": 19,
     "metadata": {},
     "output_type": "execute_result"
    }
   ],
   "source": [
    "model.fit(X_train, y_train, epochs=20, batch_size=32, validation_split=0.1)"
   ]
  },
  {
   "cell_type": "markdown",
   "id": "b05f9b93-955d-4fbb-a8a1-0ed06d87cc0e",
   "metadata": {},
   "source": [
    "## Make predictions"
   ]
  },
  {
   "cell_type": "code",
   "execution_count": 20,
   "id": "0d22ecb7-f327-4dde-9f88-e68f500355c9",
   "metadata": {},
   "outputs": [
    {
     "name": "stdout",
     "output_type": "stream",
     "text": [
      "584/584 [==============================] - 2s 3ms/step\n"
     ]
    }
   ],
   "source": [
    "y_pred = model.predict(X_scaled)"
   ]
  },
  {
   "cell_type": "markdown",
   "id": "c9a72548-dba2-4b75-bdd5-756aefb2cf01",
   "metadata": {},
   "source": [
    "## Evaluate the model"
   ]
  },
  {
   "cell_type": "code",
   "execution_count": 21,
   "id": "412642d1-a462-4a3a-abc0-38bfe6168d83",
   "metadata": {},
   "outputs": [
    {
     "name": "stdout",
     "output_type": "stream",
     "text": [
      "Mean Squared Error (MSE): 0.004978544544428587\n",
      "Mean Absolute Error (MAE): 0.01254626177251339\n",
      "R^2 Score: 0.8650864958763123\n"
     ]
    }
   ],
   "source": [
    "from sklearn.metrics import mean_squared_error, mean_absolute_error, r2_score\n",
    "\n",
    "# y_test and y_pred are continuous values\n",
    "\n",
    "mse = mean_squared_error(y_onehot, y_pred)\n",
    "mae = mean_absolute_error(y_onehot, y_pred)\n",
    "r2 = r2_score(y_onehot, y_pred)\n",
    "\n",
    "print(f\"Mean Squared Error (MSE): {mse}\")\n",
    "print(f\"Mean Absolute Error (MAE): {mae}\")\n",
    "print(f\"R^2 Score: {r2}\")\n"
   ]
  },
  {
   "cell_type": "code",
   "execution_count": 44,
   "id": "a3d24f0d-4282-44b8-b27f-c4f1b82d23e1",
   "metadata": {},
   "outputs": [
    {
     "name": "stdout",
     "output_type": "stream",
     "text": [
      "Accuracy: 0.8803835440325691\n",
      "\n",
      "Classification Report:\n",
      "               precision    recall  f1-score   support\n",
      "\n",
      "           0       0.99      0.93      0.96       756\n",
      "           1       0.95      0.83      0.88       730\n",
      "           2       0.96      0.91      0.93       710\n",
      "           3       0.91      0.85      0.88       760\n",
      "           4       0.96      0.81      0.88       725\n",
      "           5       0.94      0.83      0.88       752\n",
      "           6       0.92      0.82      0.87       743\n",
      "           7       0.93      0.73      0.82       704\n",
      "           8       0.97      0.85      0.91       524\n",
      "           9       0.99      0.89      0.93       715\n",
      "          10       0.96      0.85      0.90       718\n",
      "          11       0.96      0.89      0.92       673\n",
      "          12       0.98      0.92      0.95       732\n",
      "          13       0.96      0.89      0.93       688\n",
      "          14       0.94      0.90      0.92       718\n",
      "          15       0.96      0.90      0.93       782\n",
      "          16       0.97      0.94      0.96       760\n",
      "          17       0.92      0.80      0.86       737\n",
      "          18       0.93      0.86      0.90       729\n",
      "          19       0.95      0.93      0.94       748\n",
      "          20       0.97      0.94      0.95       768\n",
      "          21       0.97      0.91      0.94       706\n",
      "          22       0.96      0.96      0.96       726\n",
      "          23       0.95      0.88      0.91       678\n",
      "          24       0.96      0.93      0.94       746\n",
      "          25       0.95      0.93      0.94       640\n",
      "\n",
      "   micro avg       0.95      0.88      0.92     18668\n",
      "   macro avg       0.95      0.88      0.92     18668\n",
      "weighted avg       0.95      0.88      0.92     18668\n",
      " samples avg       0.88      0.88      0.88     18668\n",
      "\n"
     ]
    },
    {
     "name": "stderr",
     "output_type": "stream",
     "text": [
      "C:\\Users\\vighn\\AppData\\Local\\Programs\\Python\\Python311\\Lib\\site-packages\\sklearn\\metrics\\_classification.py:1565: UndefinedMetricWarning: Precision is ill-defined and being set to 0.0 in samples with no predicted labels. Use `zero_division` parameter to control this behavior.\n",
      "  _warn_prf(average, modifier, f\"{metric.capitalize()} is\", len(result))\n",
      "C:\\Users\\vighn\\AppData\\Local\\Programs\\Python\\Python311\\Lib\\site-packages\\sklearn\\metrics\\_classification.py:1565: UndefinedMetricWarning: Precision is ill-defined and being set to 0.0 in samples with no predicted labels. Use `zero_division` parameter to control this behavior.\n",
      "  _warn_prf(average, modifier, f\"{metric.capitalize()} is\", len(result))\n"
     ]
    }
   ],
   "source": [
    "from sklearn.metrics import classification_report, accuracy_score\n",
    "\n",
    "# Since output values are continuous, we must first convert them into binary format\n",
    "# Threshold probabilities to get binary predictions\n",
    "y_pred = (y_pred > 0.5).astype(int)\n",
    "\n",
    "original_accuracy =  accuracy_score(y_onehot, y_pred)\n",
    "original_classification = classification_report(y_onehot, y_pred)\n",
    "\n",
    "# Evaluate\n",
    "print(\"Accuracy:\", accuracy_score(y_onehot, y_pred))\n",
    "print(\"\\nClassification Report:\\n\", classification_report(y_onehot, y_pred))"
   ]
  },
  {
   "cell_type": "markdown",
   "id": "3b2ad484-b94b-47b1-9f78-e0af53bd54bf",
   "metadata": {},
   "source": [
    "## Perform Hyperparameter Tuning"
   ]
  },
  {
   "cell_type": "code",
   "execution_count": 23,
   "id": "5a12253b-e3d4-4b7a-81c3-85470628456b",
   "metadata": {},
   "outputs": [],
   "source": [
    "import keras_tuner as kt\n",
    "from tensorflow.keras.optimizers import Adam\n",
    "\n",
    "def build_model(hp):\n",
    "    model = Sequential()\n",
    "    \n",
    "    # Input + Hidden Layers\n",
    "    model.add(Dense(units=hp.Int('units_input', min_value=32, max_value=256, step=32), \n",
    "                    activation=hp.Choice('activation_input', values=['relu', 'tanh']),\n",
    "                    input_shape=(X_train.shape[1],)))\n",
    "\n",
    "    for i in range(hp.Int('num_hidden_layers', 1, 3)):\n",
    "        model.add(Dense(units=hp.Int(f'units_{i}', 32, 256, step=32), \n",
    "                        activation=hp.Choice(f'activation_{i}', ['relu', 'tanh'])))\n",
    "    \n",
    "    # Output Layer\n",
    "    model.add(Dense(y_train.shape[1], activation='softmax'))  # Using softmax as it is multi-class\n",
    "\n",
    "    # Compile\n",
    "    model.compile(\n",
    "        optimizer=Adam(hp.Choice('learning_rate', [1e-2, 1e-3, 1e-4])),\n",
    "        loss='binary_crossentropy',   # or categorical_crossentropy / mse based on task\n",
    "        metrics=['accuracy']\n",
    "    )\n",
    "    \n",
    "    return model"
   ]
  },
  {
   "cell_type": "markdown",
   "id": "92f258c8-fbbe-46b2-ac39-462cb38419f1",
   "metadata": {},
   "source": [
    "## Initialize and Run the Random Search Tuner"
   ]
  },
  {
   "cell_type": "code",
   "execution_count": 24,
   "id": "bbc137e2-6365-4e68-b6b9-7ac945a1168f",
   "metadata": {},
   "outputs": [
    {
     "name": "stdout",
     "output_type": "stream",
     "text": [
      "Reloading Tuner from ann_tuning\\hyperparam_search\\tuner0.json\n"
     ]
    }
   ],
   "source": [
    "tuner = kt.RandomSearch(\n",
    "    build_model,\n",
    "    objective='val_accuracy',\n",
    "    max_trials=10,  # number of combinations to try\n",
    "    executions_per_trial=1,\n",
    "    directory='ann_tuning',\n",
    "    project_name='hyperparam_search'\n",
    ")\n",
    "\n",
    "# Run search\n",
    "tuner.search(X_scaled, y_onehot, \n",
    "             epochs=30, \n",
    "             validation_split=0.2, \n",
    "             batch_size=32,\n",
    "             verbose=1)\n"
   ]
  },
  {
   "cell_type": "markdown",
   "id": "b06d1d81-7e2a-4289-a1e3-f48e766b3919",
   "metadata": {},
   "source": [
    "## Run the Hyperparameter Search"
   ]
  },
  {
   "cell_type": "code",
   "execution_count": 25,
   "id": "5036fd8e-9ad8-4c3d-9c17-b9623b5932a2",
   "metadata": {},
   "outputs": [],
   "source": [
    "from tensorflow.keras.callbacks import EarlyStopping\n",
    "\n",
    "# Add early stopping\n",
    "early_stop = EarlyStopping(monitor='val_loss', patience=5, restore_best_weights=True)\n",
    "\n",
    "# Start search\n",
    "tuner.search(\n",
    "    X_scaled, y_onehot,\n",
    "    validation_split=0.2,\n",
    "    epochs=50,\n",
    "    batch_size=32,\n",
    "    callbacks=[early_stop],\n",
    "    verbose=1\n",
    ")"
   ]
  },
  {
   "cell_type": "markdown",
   "id": "be2d4e52-47ca-4e74-9f53-74c8ce652d6e",
   "metadata": {},
   "source": [
    "## Loading the Best Tuned Model and Evaluating it"
   ]
  },
  {
   "cell_type": "code",
   "execution_count": 42,
   "id": "b4328011-aa18-49ff-a231-61b947ef5db0",
   "metadata": {},
   "outputs": [
    {
     "name": "stdout",
     "output_type": "stream",
     "text": [
      "WARNING:tensorflow:Detecting that an object or model or tf.train.Checkpoint is being deleted with unrestored values. See the following logs for the specific values in question. To silence these warnings, use `status.expect_partial()`. See https://www.tensorflow.org/api_docs/python/tf/train/Checkpoint#restorefor details about the status object returned by the restore function.\n",
      "WARNING:tensorflow:Value in checkpoint could not be found in the restored object: (root).optimizer._variables.1\n",
      "WARNING:tensorflow:Value in checkpoint could not be found in the restored object: (root).optimizer._variables.2\n",
      "WARNING:tensorflow:Value in checkpoint could not be found in the restored object: (root).optimizer._variables.3\n",
      "WARNING:tensorflow:Value in checkpoint could not be found in the restored object: (root).optimizer._variables.4\n",
      "WARNING:tensorflow:Value in checkpoint could not be found in the restored object: (root).optimizer._variables.5\n",
      "WARNING:tensorflow:Value in checkpoint could not be found in the restored object: (root).optimizer._variables.6\n",
      "WARNING:tensorflow:Value in checkpoint could not be found in the restored object: (root).optimizer._variables.7\n",
      "WARNING:tensorflow:Value in checkpoint could not be found in the restored object: (root).optimizer._variables.8\n",
      "WARNING:tensorflow:Value in checkpoint could not be found in the restored object: (root).optimizer._variables.9\n",
      "WARNING:tensorflow:Value in checkpoint could not be found in the restored object: (root).optimizer._variables.10\n",
      "WARNING:tensorflow:Value in checkpoint could not be found in the restored object: (root).optimizer._variables.11\n",
      "WARNING:tensorflow:Value in checkpoint could not be found in the restored object: (root).optimizer._variables.12\n",
      "WARNING:tensorflow:Value in checkpoint could not be found in the restored object: (root).optimizer._variables.13\n",
      "WARNING:tensorflow:Value in checkpoint could not be found in the restored object: (root).optimizer._variables.14\n",
      "WARNING:tensorflow:Value in checkpoint could not be found in the restored object: (root).optimizer._variables.15\n",
      "WARNING:tensorflow:Value in checkpoint could not be found in the restored object: (root).optimizer._variables.16\n",
      "WARNING:tensorflow:Value in checkpoint could not be found in the restored object: (root).optimizer._variables.17\n",
      "WARNING:tensorflow:Value in checkpoint could not be found in the restored object: (root).optimizer._variables.18\n",
      "WARNING:tensorflow:Value in checkpoint could not be found in the restored object: (root).optimizer._variables.19\n",
      "WARNING:tensorflow:Value in checkpoint could not be found in the restored object: (root).optimizer._variables.20\n",
      "584/584 [==============================] - 2s 4ms/step\n",
      "\n",
      "Best Hyperparameters: {'units_input': 96, 'activation_input': 'relu', 'num_hidden_layers': 3, 'units_0': 128, 'activation_0': 'tanh', 'learning_rate': 0.001, 'units_1': 256, 'activation_1': 'tanh', 'units_2': 224, 'activation_2': 'tanh'}\n",
      "\n",
      "Accuracy: <function accuracy_score at 0x00000245820818A0> 0.9930897793014785\n",
      "\n",
      "Classification Report:\n",
      " <function classification_report at 0x0000024582082D40>               precision    recall  f1-score   support\n",
      "\n",
      "           0       1.00      0.99      0.99       756\n",
      "           1       0.99      1.00      0.99       730\n",
      "           2       1.00      1.00      1.00       710\n",
      "           3       0.99      1.00      0.99       760\n",
      "           4       1.00      0.99      0.99       725\n",
      "           5       1.00      1.00      1.00       752\n",
      "           6       0.99      0.99      0.99       743\n",
      "           7       0.99      0.98      0.99       704\n",
      "           8       0.99      0.98      0.99       524\n",
      "           9       0.99      0.99      0.99       715\n",
      "          10       0.99      0.99      0.99       718\n",
      "          11       0.99      0.99      0.99       673\n",
      "          12       1.00      1.00      1.00       732\n",
      "          13       1.00      0.99      1.00       688\n",
      "          14       0.99      0.99      0.99       718\n",
      "          15       1.00      0.99      0.99       782\n",
      "          16       1.00      0.99      0.99       760\n",
      "          17       0.99      0.99      0.99       737\n",
      "          18       1.00      0.99      0.99       729\n",
      "          19       0.99      1.00      1.00       748\n",
      "          20       0.99      1.00      1.00       768\n",
      "          21       1.00      0.98      0.99       706\n",
      "          22       1.00      1.00      1.00       726\n",
      "          23       1.00      1.00      1.00       678\n",
      "          24       0.99      0.99      0.99       746\n",
      "          25       0.99      1.00      0.99       640\n",
      "\n",
      "   micro avg       0.99      0.99      0.99     18668\n",
      "   macro avg       0.99      0.99      0.99     18668\n",
      "weighted avg       0.99      0.99      0.99     18668\n",
      " samples avg       0.99      0.99      0.99     18668\n",
      "\n"
     ]
    },
    {
     "name": "stderr",
     "output_type": "stream",
     "text": [
      "C:\\Users\\vighn\\AppData\\Local\\Programs\\Python\\Python311\\Lib\\site-packages\\sklearn\\metrics\\_classification.py:1565: UndefinedMetricWarning: Precision is ill-defined and being set to 0.0 in samples with no predicted labels. Use `zero_division` parameter to control this behavior.\n",
      "  _warn_prf(average, modifier, f\"{metric.capitalize()} is\", len(result))\n",
      "C:\\Users\\vighn\\AppData\\Local\\Programs\\Python\\Python311\\Lib\\site-packages\\sklearn\\metrics\\_classification.py:1565: UndefinedMetricWarning: Precision is ill-defined and being set to 0.0 in samples with no predicted labels. Use `zero_division` parameter to control this behavior.\n",
      "  _warn_prf(average, modifier, f\"{metric.capitalize()} is\", len(result))\n"
     ]
    }
   ],
   "source": [
    "best_model = tuner.get_best_models(num_models=1)[0]\n",
    "best_hyperparams = tuner.get_best_hyperparameters(num_trials=1)[0]\n",
    "\n",
    "# Evaluate on test set\n",
    "y_pred_best = best_model.predict(X_scaled)\n",
    "y_pred_best = (y_pred_best > 0.5).astype(int)\n",
    "\n",
    "best_accuracy = accuracy_score(y_onehot, y_pred_best)\n",
    "best_classification = classification_report(y_onehot, y_pred_best)\n",
    "\n",
    "print(f\"\\nBest Hyperparameters: {best_hyperparams.values}\")\n",
    "print(f\"\\nAccuracy: {accuracy_score}\", accuracy_score(y_onehot, y_pred_best))\n",
    "print(f\"\\nClassification Report:\\n {classification_report}\", classification_report(y_onehot, y_pred_best))"
   ]
  },
  {
   "cell_type": "code",
   "execution_count": 41,
   "id": "780d601e-8dd1-411c-866e-68b619dd89b3",
   "metadata": {},
   "outputs": [
    {
     "name": "stdout",
     "output_type": "stream",
     "text": [
      "Train Accuracy: 0.993\n",
      "Test Accuracy:  0.993\n"
     ]
    }
   ],
   "source": [
    "train_loss, train_acc = best_model.evaluate(X_scaled, y_onehot, verbose=0)\n",
    "test_loss, test_acc = best_model.evaluate(X_scaled, y_onehot, verbose=0)\n",
    "\n",
    "print(f\"Train Accuracy: {train_acc:.3f}\")\n",
    "print(f\"Test Accuracy:  {test_acc:.3f}\")"
   ]
  },
  {
   "cell_type": "markdown",
   "id": "50ea5fd5-36eb-460d-af85-0d378cb1dce9",
   "metadata": {},
   "source": [
    "### Since train and test accuracy is nearly identical, model is not overfitting."
   ]
  },
  {
   "cell_type": "markdown",
   "id": "7285f151-0b1b-474b-940a-991559426471",
   "metadata": {},
   "source": [
    "## Comparision of Original and Tuned model"
   ]
  },
  {
   "cell_type": "code",
   "execution_count": 45,
   "id": "0d17e0b1-e19b-4674-ae2f-16cbdadf6378",
   "metadata": {},
   "outputs": [
    {
     "name": "stdout",
     "output_type": "stream",
     "text": [
      "Accuracy of original model: 0.8803835440325691\n",
      "Accuracy of Tuned model: 0.9930897793014785\n"
     ]
    }
   ],
   "source": [
    "print(f'Accuracy of original model: {original_accuracy}')\n",
    "print(f'Accuracy of Tuned model: {best_accuracy}')"
   ]
  },
  {
   "cell_type": "code",
   "execution_count": 46,
   "id": "cb46a3aa-29a1-488a-88f3-6a2ebfeda787",
   "metadata": {},
   "outputs": [
    {
     "name": "stdout",
     "output_type": "stream",
     "text": [
      "Original model classification:               precision    recall  f1-score   support\n",
      "\n",
      "           0       0.99      0.93      0.96       756\n",
      "           1       0.95      0.83      0.88       730\n",
      "           2       0.96      0.91      0.93       710\n",
      "           3       0.91      0.85      0.88       760\n",
      "           4       0.96      0.81      0.88       725\n",
      "           5       0.94      0.83      0.88       752\n",
      "           6       0.92      0.82      0.87       743\n",
      "           7       0.93      0.73      0.82       704\n",
      "           8       0.97      0.85      0.91       524\n",
      "           9       0.99      0.89      0.93       715\n",
      "          10       0.96      0.85      0.90       718\n",
      "          11       0.96      0.89      0.92       673\n",
      "          12       0.98      0.92      0.95       732\n",
      "          13       0.96      0.89      0.93       688\n",
      "          14       0.94      0.90      0.92       718\n",
      "          15       0.96      0.90      0.93       782\n",
      "          16       0.97      0.94      0.96       760\n",
      "          17       0.92      0.80      0.86       737\n",
      "          18       0.93      0.86      0.90       729\n",
      "          19       0.95      0.93      0.94       748\n",
      "          20       0.97      0.94      0.95       768\n",
      "          21       0.97      0.91      0.94       706\n",
      "          22       0.96      0.96      0.96       726\n",
      "          23       0.95      0.88      0.91       678\n",
      "          24       0.96      0.93      0.94       746\n",
      "          25       0.95      0.93      0.94       640\n",
      "\n",
      "   micro avg       0.95      0.88      0.92     18668\n",
      "   macro avg       0.95      0.88      0.92     18668\n",
      "weighted avg       0.95      0.88      0.92     18668\n",
      " samples avg       0.88      0.88      0.88     18668\n",
      "\n",
      "Tuned model classification:               precision    recall  f1-score   support\n",
      "\n",
      "           0       1.00      0.99      0.99       756\n",
      "           1       0.99      1.00      0.99       730\n",
      "           2       1.00      1.00      1.00       710\n",
      "           3       0.99      1.00      0.99       760\n",
      "           4       1.00      0.99      0.99       725\n",
      "           5       1.00      1.00      1.00       752\n",
      "           6       0.99      0.99      0.99       743\n",
      "           7       0.99      0.98      0.99       704\n",
      "           8       0.99      0.98      0.99       524\n",
      "           9       0.99      0.99      0.99       715\n",
      "          10       0.99      0.99      0.99       718\n",
      "          11       0.99      0.99      0.99       673\n",
      "          12       1.00      1.00      1.00       732\n",
      "          13       1.00      0.99      1.00       688\n",
      "          14       0.99      0.99      0.99       718\n",
      "          15       1.00      0.99      0.99       782\n",
      "          16       1.00      0.99      0.99       760\n",
      "          17       0.99      0.99      0.99       737\n",
      "          18       1.00      0.99      0.99       729\n",
      "          19       0.99      1.00      1.00       748\n",
      "          20       0.99      1.00      1.00       768\n",
      "          21       1.00      0.98      0.99       706\n",
      "          22       1.00      1.00      1.00       726\n",
      "          23       1.00      1.00      1.00       678\n",
      "          24       0.99      0.99      0.99       746\n",
      "          25       0.99      1.00      0.99       640\n",
      "\n",
      "   micro avg       0.99      0.99      0.99     18668\n",
      "   macro avg       0.99      0.99      0.99     18668\n",
      "weighted avg       0.99      0.99      0.99     18668\n",
      " samples avg       0.99      0.99      0.99     18668\n",
      "\n"
     ]
    }
   ],
   "source": [
    "print(f'Original model classification: {original_classification}')\n",
    "print(f'Tuned model classification: {best_classification}')"
   ]
  },
  {
   "cell_type": "markdown",
   "id": "d2b91835-026b-4d50-805a-d319b98cdbd7",
   "metadata": {},
   "source": [
    "## Insights"
   ]
  },
  {
   "cell_type": "markdown",
   "id": "128c03d1-3a14-435e-b535-fe46e5121199",
   "metadata": {},
   "source": [
    "These optimizations helped the tuned model to generalize better, shown by the near-equal accuracy on both the training and test sets. \n",
    "\n",
    "Unlike the original model, the tuned version learned faster and converged to a lower loss, with reduced risk of overfitting due to proper regularization and learning rate control.\n",
    "\n",
    "The improvement in F1-score and recall indicates that the tuned model also made fewer false negatives."
   ]
  },
  {
   "cell_type": "code",
   "execution_count": null,
   "id": "8c1ba752-567a-49e9-8625-bcd6ee9b6359",
   "metadata": {},
   "outputs": [],
   "source": []
  }
 ],
 "metadata": {
  "kernelspec": {
   "display_name": "Python 3 (ipykernel)",
   "language": "python",
   "name": "python3"
  },
  "language_info": {
   "codemirror_mode": {
    "name": "ipython",
    "version": 3
   },
   "file_extension": ".py",
   "mimetype": "text/x-python",
   "name": "python",
   "nbconvert_exporter": "python",
   "pygments_lexer": "ipython3",
   "version": "3.11.4"
  }
 },
 "nbformat": 4,
 "nbformat_minor": 5
}
