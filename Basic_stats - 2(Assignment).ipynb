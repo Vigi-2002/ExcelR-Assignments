{
 "cells": [
  {
   "cell_type": "markdown",
   "id": "5d78e6c5-fa4e-4797-b114-bfb528416b8e",
   "metadata": {},
   "source": [
    "# Basic_stats - 2(Assignment)"
   ]
  },
  {
   "cell_type": "markdown",
   "id": "d2afdca5-4475-4d31-a1b2-e8397faf94ec",
   "metadata": {},
   "source": [
    "## Build 99% Confidence Interval Using Sample Standard Deviation"
   ]
  },
  {
   "cell_type": "code",
   "execution_count": 13,
   "id": "0d418b20-5c0c-4caf-bf02-62b9fe1454af",
   "metadata": {},
   "outputs": [
    {
     "name": "stdout",
     "output_type": "stream",
     "text": [
      "(1.0952316686385626, 1.3821016646947706)\n"
     ]
    }
   ],
   "source": [
    "from scipy import stats\n",
    "import numpy as np\n",
    "\n",
    "#confidence level = 99 (=0.99)\n",
    "\n",
    "data = [1.13, 1.55, 1.43, 0.92, 1.25, 1.36, 1.32, 0.85, 1.07, 1.48, 1.20, 1.33, 1.18, 1.22, 1.29]\n",
    "\n",
    "n1 = len(data) #sample size\n",
    "\n",
    "mean1 = np.mean(data) #mean of data\n",
    "\n",
    "standard_deviation = np.std(data)\n",
    "\n",
    "ci1 = stats.t.interval(0.99, df = n1 -1, loc = mean1, scale = standard_deviation / np.sqrt(n1))\n",
    "print(ci1)"
   ]
  },
  {
   "cell_type": "code",
   "execution_count": null,
   "id": "713241cd-0545-4d5d-841e-5c9685190345",
   "metadata": {},
   "outputs": [],
   "source": []
  },
  {
   "cell_type": "markdown",
   "id": "135123f9-8ddb-4039-a187-22fb6dc16990",
   "metadata": {},
   "source": [
    "## Build 99% Confidence Interval Using Known Population Standard Deviation"
   ]
  },
  {
   "cell_type": "code",
   "execution_count": 14,
   "id": "ec7d374f-b803-4501-b3ea-1a2d07d911fb",
   "metadata": {},
   "outputs": [
    {
     "name": "stdout",
     "output_type": "stream",
     "text": [
      "(1.1056514133957607, 1.3716819199375725)\n"
     ]
    }
   ],
   "source": [
    "#sample size = 15 (n)\n",
    "#confidence level = 99 (=0.99)\n",
    "\n",
    "data = [1.13, 1.55, 1.43, 0.92, 1.25, 1.36, 1.32, 0.85, 1.07, 1.48, 1.20, 1.33, 1.18, 1.22, 1.29]\n",
    "\n",
    "population_standard_deviation = 0.2\n",
    "\n",
    "n = len(data) #sample size\n",
    "\n",
    "mean2 = np.mean(data) #mean of data\n",
    "\n",
    "ci2 = stats.norm.interval(0.99, loc = mean2, scale = population_standard_deviation / np.sqrt(n))\n",
    "print(ci2)"
   ]
  },
  {
   "cell_type": "code",
   "execution_count": null,
   "id": "8ec390b5-0fd9-42e9-95f9-c8e905e0fd9e",
   "metadata": {},
   "outputs": [],
   "source": []
  }
 ],
 "metadata": {
  "kernelspec": {
   "display_name": "Python 3 (ipykernel)",
   "language": "python",
   "name": "python3"
  },
  "language_info": {
   "codemirror_mode": {
    "name": "ipython",
    "version": 3
   },
   "file_extension": ".py",
   "mimetype": "text/x-python",
   "name": "python",
   "nbconvert_exporter": "python",
   "pygments_lexer": "ipython3",
   "version": "3.11.4"
  }
 },
 "nbformat": 4,
 "nbformat_minor": 5
}
