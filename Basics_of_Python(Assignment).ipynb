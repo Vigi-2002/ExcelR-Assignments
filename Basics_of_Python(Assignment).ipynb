{
 "cells": [
  {
   "cell_type": "markdown",
   "id": "cc0e404b-1ca6-4e02-8480-fc6af5488890",
   "metadata": {},
   "source": [
    "# Basics of Python(Assignment)"
   ]
  },
  {
   "cell_type": "markdown",
   "id": "1c27cb97-c952-48d3-8ed8-f88f672a1074",
   "metadata": {},
   "source": [
    "## Exercise 1: Prime Numbers\n",
    "### Write a Python program that checks whether a given number is prime or not. A prime number is a natural number greater than 1 that has no positive divisors other than 1 and itself."
   ]
  },
  {
   "cell_type": "markdown",
   "id": "fa2b83f3-d83c-404c-a7c1-e93474885df0",
   "metadata": {},
   "source": [
    "Check if the entered number is a prime number."
   ]
  },
  {
   "cell_type": "code",
   "execution_count": 13,
   "id": "af0e1c38-957b-41a6-ad03-c851cb86f7bd",
   "metadata": {},
   "outputs": [],
   "source": [
    "def is_prime(n):\n",
    "    if n <= 1:\n",
    "        return False\n",
    "    if n == 2:\n",
    "        return True  # 2 is the only even prime number\n",
    "    if n % 2 == 0:\n",
    "        return False\n",
    "\n",
    "    # Only check odd numbers up to square root of n\n",
    "    for i in range(3, int(n ** 0.5) + 1, 2):\n",
    "        if n % i == 0:\n",
    "            return False\n",
    "    return True"
   ]
  },
  {
   "cell_type": "markdown",
   "id": "513b87d9-97d0-4056-9124-764149fd4b92",
   "metadata": {},
   "source": [
    "Get input from the user"
   ]
  },
  {
   "cell_type": "code",
   "execution_count": 15,
   "id": "c2dd157f-3ac0-4d5f-b030-39969f0afdfc",
   "metadata": {},
   "outputs": [
    {
     "name": "stdin",
     "output_type": "stream",
     "text": [
      "Enter a number to check if it is prime:  5\n"
     ]
    },
    {
     "name": "stdout",
     "output_type": "stream",
     "text": [
      "5 is a prime number.\n"
     ]
    }
   ],
   "source": [
    "number = int(input(\"Enter a number to check if it is prime: \"))\n",
    "\n",
    "if is_prime(number):\n",
    "    print(f\"{number} is a prime number.\")\n",
    "else:\n",
    "    print(f\"{number} is not a prime number.\")"
   ]
  },
  {
   "cell_type": "markdown",
   "id": "f26acd24-5500-448c-be7a-81f06ca3cddd",
   "metadata": {},
   "source": [
    "## Exercise 2: Product of Random Numbers"
   ]
  },
  {
   "cell_type": "markdown",
   "id": "410d9d36-081b-43b0-b414-9a0e44dc4a0c",
   "metadata": {},
   "source": [
    "### Develop a Python program that generates two random numbers and asks the user to enter the product of these numbers. The program should then check if the user's answer is correct and display an appropriate message."
   ]
  },
  {
   "cell_type": "code",
   "execution_count": 23,
   "id": "b753c46f-966e-4098-ad65-09e7614a5f62",
   "metadata": {},
   "outputs": [
    {
     "name": "stdout",
     "output_type": "stream",
     "text": [
      "What is 4 x 3?\n"
     ]
    },
    {
     "name": "stdin",
     "output_type": "stream",
     "text": [
      "Your answer:  12\n"
     ]
    },
    {
     "name": "stdout",
     "output_type": "stream",
     "text": [
      "Correct! Well done.\n"
     ]
    }
   ],
   "source": [
    "def quiz():\n",
    "    # Generate two random integers between 1 and 10\n",
    "    num1 = random.randint(1, 10)\n",
    "    num2 = random.randint(1, 10)\n",
    "\n",
    "    # Ask the user to enter the product\n",
    "    print(f\"What is {num1} x {num2}?\")\n",
    "    \n",
    "    \n",
    "    user_answer = int(input(\"Your answer: \"))\n",
    "    correct_answer = num1 * num2\n",
    "\n",
    "     # Check the answer and print the result\n",
    "    if user_answer == correct_answer:\n",
    "        print(\"Correct! Well done.\")\n",
    "    else:\n",
    "        print(f\"Incorrect. The correct answer is {correct_answer}.\")\n",
    "\n",
    "quiz()"
   ]
  },
  {
   "cell_type": "markdown",
   "id": "06db1a97-e23b-4375-9d76-f1b750888e59",
   "metadata": {},
   "source": [
    "## Exercise 3: Squares of Even/Odd Numbers"
   ]
  },
  {
   "cell_type": "markdown",
   "id": "e0be5030-af5f-440b-a1cf-c448d306ce10",
   "metadata": {},
   "source": [
    "### Create a Python script that prints the squares of all even or odd numbers within the range of 100 to 200. Choose either even or odd numbers and document your choice in the code."
   ]
  },
  {
   "cell_type": "code",
   "execution_count": 28,
   "id": "7ee84a69-659d-4653-bac0-0ebebe09102f",
   "metadata": {},
   "outputs": [
    {
     "name": "stdout",
     "output_type": "stream",
     "text": [
      "101 squared is 10201\n",
      "103 squared is 10609\n",
      "105 squared is 11025\n",
      "107 squared is 11449\n",
      "109 squared is 11881\n",
      "111 squared is 12321\n",
      "113 squared is 12769\n",
      "115 squared is 13225\n",
      "117 squared is 13689\n",
      "119 squared is 14161\n",
      "121 squared is 14641\n",
      "123 squared is 15129\n",
      "125 squared is 15625\n",
      "127 squared is 16129\n",
      "129 squared is 16641\n",
      "131 squared is 17161\n",
      "133 squared is 17689\n",
      "135 squared is 18225\n",
      "137 squared is 18769\n",
      "139 squared is 19321\n",
      "141 squared is 19881\n",
      "143 squared is 20449\n",
      "145 squared is 21025\n",
      "147 squared is 21609\n",
      "149 squared is 22201\n",
      "151 squared is 22801\n",
      "153 squared is 23409\n",
      "155 squared is 24025\n",
      "157 squared is 24649\n",
      "159 squared is 25281\n",
      "161 squared is 25921\n",
      "163 squared is 26569\n",
      "165 squared is 27225\n",
      "167 squared is 27889\n",
      "169 squared is 28561\n",
      "171 squared is 29241\n",
      "173 squared is 29929\n",
      "175 squared is 30625\n",
      "177 squared is 31329\n",
      "179 squared is 32041\n",
      "181 squared is 32761\n",
      "183 squared is 33489\n",
      "185 squared is 34225\n",
      "187 squared is 34969\n",
      "189 squared is 35721\n",
      "191 squared is 36481\n",
      "193 squared is 37249\n",
      "195 squared is 38025\n",
      "197 squared is 38809\n",
      "199 squared is 39601\n"
     ]
    }
   ],
   "source": [
    "# This script prints squares of all ODD numbers.\n",
    "\n",
    "# Loop through numbers from 100 to 200\n",
    "for number in range(100, 201):\n",
    "    if number % 2 != 0:  # Check if the number is odd\n",
    "        square = number ** 2\n",
    "        print(f\"{number} squared is {square}\")"
   ]
  },
  {
   "cell_type": "markdown",
   "id": "ddfce4c5-9b3e-431b-8e16-64dc2afac5c3",
   "metadata": {},
   "source": [
    "## Exercise 4: Word counter"
   ]
  },
  {
   "cell_type": "markdown",
   "id": "197aeac9-05c0-4bb4-a652-a1626138cd10",
   "metadata": {},
   "source": [
    "### Write a program to count the number of words in a given text."
   ]
  },
  {
   "cell_type": "code",
   "execution_count": 29,
   "id": "a440dac9-c977-4fae-9806-78815e2f54fb",
   "metadata": {},
   "outputs": [],
   "source": [
    "def count_word_frequency(text):\n",
    "    words = text.split()  # Split by whitespace\n",
    "    word_count = {}\n",
    "\n",
    "    for word in words:\n",
    "        # Count each word as-is, including punctuation\n",
    "        word_count[word] = word_count.get(word, 0) + 1\n",
    "\n",
    "    return word_count"
   ]
  },
  {
   "cell_type": "code",
   "execution_count": 30,
   "id": "84ba597f-c2ba-46cf-b9ba-b782110c2ee7",
   "metadata": {},
   "outputs": [
    {
     "name": "stdout",
     "output_type": "stream",
     "text": [
      "'This': 2\n",
      "'is': 1\n",
      "'a': 1\n",
      "'sample': 1\n",
      "'text.': 1\n",
      "'text': 1\n",
      "'will': 1\n",
      "'be': 1\n",
      "'used': 1\n",
      "'to': 1\n",
      "'demonstrate': 1\n",
      "'the': 1\n",
      "'word': 1\n",
      "'counter.': 1\n"
     ]
    }
   ],
   "source": [
    "# Sample input text\n",
    "input_text = \"This is a sample text. This text will be used to demonstrate the word counter.\"\n",
    "\n",
    "# Get the word frequencies\n",
    "frequencies = count_word_frequency(input_text)\n",
    "\n",
    "# Print the result\n",
    "for word, count in frequencies.items():\n",
    "    print(f\"'{word}': {count}\")"
   ]
  },
  {
   "cell_type": "markdown",
   "id": "1c24bbd2-c611-4fb7-a042-4cca5588ffe3",
   "metadata": {},
   "source": [
    "## Exercise 5: Check for Palindrome"
   ]
  },
  {
   "cell_type": "markdown",
   "id": "ad18b2e2-7d7f-4fb5-87ad-05fbd9facc47",
   "metadata": {},
   "source": [
    "### Write a Python function called is_palindrome that takes a string as input and returns True if the string is a palindrome, and False otherwise. A palindrome is a word, phrase, number, or other sequence of characters that reads the same forward and backward, ignoring spaces, punctuation, and capitalization."
   ]
  },
  {
   "cell_type": "code",
   "execution_count": 33,
   "id": "7cb0092f-3808-4ccb-9cfb-9e1a3e24f87b",
   "metadata": {},
   "outputs": [
    {
     "name": "stdout",
     "output_type": "stream",
     "text": [
      "True\n",
      "False\n"
     ]
    }
   ],
   "source": [
    "import string\n",
    "\n",
    "def is_palindrome(s):\n",
    "    # Convert to lowercase\n",
    "    s = s.lower()\n",
    "    \n",
    "    # Remove punctuation and spaces\n",
    "    cleaned = ''.join(char for char in s if char.isalnum())\n",
    "    \n",
    "    # Check if cleaned string is equal to its reverse\n",
    "    return cleaned == cleaned[::-1]\n",
    "\n",
    "# Example\n",
    "print(is_palindrome(\"racecar\"))       # True\n",
    "print(is_palindrome(\"Hello, world!\")) # False"
   ]
  },
  {
   "cell_type": "code",
   "execution_count": null,
   "id": "0036005d-9cd8-4d4a-8f6c-e2e7b9708388",
   "metadata": {},
   "outputs": [],
   "source": []
  }
 ],
 "metadata": {
  "kernelspec": {
   "display_name": "Python 3 (ipykernel)",
   "language": "python",
   "name": "python3"
  },
  "language_info": {
   "codemirror_mode": {
    "name": "ipython",
    "version": 3
   },
   "file_extension": ".py",
   "mimetype": "text/x-python",
   "name": "python",
   "nbconvert_exporter": "python",
   "pygments_lexer": "ipython3",
   "version": "3.11.4"
  }
 },
 "nbformat": 4,
 "nbformat_minor": 5
}
